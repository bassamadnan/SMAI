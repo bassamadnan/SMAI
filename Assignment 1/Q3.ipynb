{
  "cells": [
    {
      "cell_type": "markdown",
      "metadata": {
        "id": "NBjekUKKzDg3"
      },
      "source": [
        "# Assignment 1\n",
        "\n",
        "## Question 3 (Linear Regression)\n",
        "\n",
        "This assignment will have you working and experimenting with linear regression. The general multiple linear regression model, given $p$ predictors, is defined as: $$Y=\\beta_0+\\beta_1X_1+\\beta_2X_2+...+\\beta_pX_p+\\epsilon,$$ where $Y$ is the response variable, $X_j$ is the $j$<sup>th</sup> predictor and $\\beta_j$ quantifies the association between the response and the variable. A good way to think about $\\beta_j$ is as the average effect on $Y$ of a one unit increase in $X_j$, holding all other predictors fixed. The $\\epsilon$ term is the error term, which is independent of $X$ and has mean zero (the expected value of $Y$ when all variables are set to zero).\n",
        "\n",
        "Work with Numpy only and do not use library functions that directly perform model fitting like `np.polyfit`. However, you may use library functions to compare your results while experimenting. This assignment becomes much easier to complete if accompanied by reading the third chapter in An Introduction to Statistical Learning. The text is freely available for download on the internet at [statlearning.com](statlearning.com)\n",
        "\n",
        "Reference: James, G., Witten, D., Hastie, T., Tibshirani, R., Taylor, J. (2023). Linear Regression. In: An Introduction to Statistical Learning. Springer Texts in Statistics. Springer, Cham. https://doi.org/10.1007/978-3-031-38747-0_3"
      ]
    },
    {
      "cell_type": "markdown",
      "metadata": {
        "id": "5j_YEOpDzJDk"
      },
      "source": [
        "### Imports"
      ]
    },
    {
      "cell_type": "code",
      "execution_count": null,
      "metadata": {
        "id": "zjmte2ZLzH4Q",
        "colab": {
          "base_uri": "https://localhost:8080/"
        },
        "outputId": "ec66778d-bd35-45c3-ce8f-e1218fa46845"
      },
      "outputs": [
        {
          "output_type": "stream",
          "name": "stdout",
          "text": [
            "Mounted at /content/drive\n"
          ]
        }
      ],
      "source": [
        "import numpy as np\n",
        "import matplotlib.pyplot as plt\n",
        "import pandas as pd\n",
        "\n",
        "# other imports if necessary\n",
        "from google.colab import drive\n",
        "drive.mount('/content/drive')"
      ]
    },
    {
      "cell_type": "markdown",
      "metadata": {
        "id": "AjVF377ozMjX"
      },
      "source": [
        "### Part 1: Simple Regression\n",
        "\n",
        "In this part, the function `gen_data()` samples hundred data points from a random 25 degree single-variable polynomial. This data is stored in the `predictor` and `response` variables. Your task is to experiment with linear regression on this dataset. Specifically:\n",
        "\n",
        "1. Fit a line to the curve $(y=\\beta_1x+\\beta_0)$\n",
        "2. Fit a polynomial to the curve $(y=\\sum_{0}^{k}\\beta_kx^k)$ and choose $k$ that satisfactorily minimizes error.\n",
        "    - Note that the original polynomial is a 25 degree polynomial and we might not need exactly that many.\n",
        "    - Check how well the coefficients match when we try to fit a 25 degree polynomial to the data. Get the coefficients from the `gen_data()` function.\n",
        "3. Perform L1 and L2 regularization on the curve obtained from step 2.\n",
        "\n",
        "Report error metrics for all experiments in tabular form (or any other way that helps us compare and choose between the different methods)\n",
        "\n"
      ]
    },
    {
      "cell_type": "code",
      "execution_count": null,
      "metadata": {
        "id": "9MjixImKzL9Y",
        "colab": {
          "base_uri": "https://localhost:8080/",
          "height": 559
        },
        "outputId": "c5fdd4fc-4fa3-4407-ce81-e51d89cb29b0"
      },
      "outputs": [
        {
          "output_type": "stream",
          "name": "stdout",
          "text": [
            "[0.92648114 0.12118123 0.33408391 0.43150125 0.82695717 0.98845427\n",
            " 0.88229683 0.72259457 0.00813529 0.29328584 0.49674249 0.70825411\n",
            " 0.75318668 0.72890199 0.39162196 0.72103761 0.62735225 0.08615469\n",
            " 0.49034313 0.79847258 0.41526548 0.72090575 0.63310577 0.16800165\n",
            " 0.08183554 0.15946561]\n"
          ]
        },
        {
          "output_type": "display_data",
          "data": {
            "text/plain": [
              "<Figure size 640x480 with 1 Axes>"
            ],
            "image/png": "[encoded data removed]"
          },
          "metadata": {}
        }
      ],
      "source": [
        "def gen_data():\n",
        "    coeff = np.random.rand(26)\n",
        "    print(coeff)\n",
        "    x = np.linspace(-1.1, 0.9, 100)\n",
        "    y = np.zeros_like(x)\n",
        "    for i, c in enumerate(coeff):\n",
        "        y += c * x**i\n",
        "    y += np.random.randn(100) * 0.1\n",
        "\n",
        "    return x, y, coeff\n",
        "\n",
        "predictor, response, gen_data_coeff= gen_data()\n",
        "\n",
        "plt.plot(predictor, response, 'r+')\n",
        "plt.xlabel('Predictor')\n",
        "plt.ylabel('Response')\n",
        "plt.title('Sampled Data Points')\n",
        "plt.show()"
      ]
    },
    {
      "cell_type": "code",
      "execution_count": null,
      "metadata": {
        "id": "KVbMVmm72vhB"
      },
      "outputs": [],
      "source": [
        "# your code here\n",
        "# we'll need a cost function, gradient descent algo, pdf pg 77\n",
        "def simpleRegression_coeff(x, y):\n",
        "  n = len(x)\n",
        "  x_bar, y_bar = np.sum(x)/n, np.sum(y)/n\n",
        "  beta1,denom, beta2 = 0, 0, 0\n",
        "  for xi,yi in zip(x, y):\n",
        "    beta1 += (xi-x_bar)*(yi-y_bar)\n",
        "    denom += ((xi-x_bar)**2)\n",
        "\n",
        "  beta1 = beta1/denom\n",
        "  beta2 = y_bar - beta1*x_bar\n",
        "  return beta1, beta2\n",
        "\n",
        "line_coeff = simpleRegression_coeff(predictor, response)\n",
        "line = line_coeff[0]*predictor + line_coeff[1]"
      ]
    },
    {
      "cell_type": "code",
      "source": [
        "#@title Plotting the line\n",
        "plt.plot(predictor, response, 'r+')\n",
        "plt.xlabel('Predictor')\n",
        "plt.ylabel('Response')\n",
        "plt.title('Sampled Data Points')\n",
        "plt.plot(predictor, line, label='Regression Line', linewidth=2)\n",
        "plt.show()"
      ],
      "metadata": {
        "colab": {
          "base_uri": "https://localhost:8080/",
          "height": 472
        },
        "cellView": "form",
        "id": "Al6K5-aa9Z5l",
        "outputId": "52525b20-976f-4d63-8b49-166970485fcd"
      },
      "execution_count": null,
      "outputs": [
        {
          "output_type": "display_data",
          "data": {
            "text/plain": [
              "<Figure size 640x480 with 1 Axes>"
            ],
            "image/png": "[encoded data removed]"
          },
          "metadata": {}
        }
      ]
    },
    {
      "cell_type": "code",
      "source": [
        "#@title Polynomial Regression Class\n",
        "class PolynomialRegression:\n",
        "    def __init__(self, degree, alpha=0.01, max_iter=1000):\n",
        "        self.degree = degree\n",
        "        self.alpha = alpha\n",
        "        self.max_iter = max_iter\n",
        "        self.score_mse = 0\n",
        "        self.weights = [0] * (self.degree + 1)\n",
        "\n",
        "    def l1_fit(self, X, y, lda=0.1):\n",
        "      X, m = np.vander(X, self.degree + 1), len(X)\n",
        "      for i in range(self.max_iter):\n",
        "          # if i == 1: print(X, self.weights)\n",
        "          y_pred = np.dot(X, self.weights)\n",
        "          error = y_pred - y\n",
        "          gradient = np.dot(X.T, error)\n",
        "          # if i%100 == 0 and i != 0: print(f\"at epoch: {i}, error (MSE) : {self.score(X, y)}\")\n",
        "          self.weights -= self.alpha * gradient * (1/m)\n",
        "          self.weights -= lda * gradient * (1/m)\n",
        "\n",
        "    def l2_fit(self, X, y, lda=0.1):\n",
        "      X, m = np.vander(X, self.degree + 1), len(X)\n",
        "      for i in range(self.max_iter):\n",
        "          # if i == 1: print(X, self.weights)\n",
        "          y_pred = np.dot(X, self.weights)\n",
        "          error = y_pred - y\n",
        "          gradient = np.dot(X.T, error)\n",
        "          # if i%100 == 0 and i != 0: print(f\"at epoch: {i}, error (MSE) : {self.score(X, y)}\")\n",
        "          self.weights -= self.alpha * gradient * (1/m)\n",
        "          self.weights -= lda * (1/(2*m))\n",
        "\n",
        "    def fit(self, X, y):\n",
        "        X, m = np.vander(X, self.degree + 1), len(X)\n",
        "\n",
        "        for i in range(self.max_iter):\n",
        "            # if i == 1: print(X, self.weights)\n",
        "            y_pred = np.dot(X, self.weights)\n",
        "            error = y_pred - y\n",
        "            gradient = np.dot(X.T, error)\n",
        "            # if i%100 == 0 and i != 0: print(f\"at epoch: {i}, error (MSE) : {self.score(X, y)}\")\n",
        "            self.weights -= self.alpha * gradient * (1/m)\n",
        "\n",
        "    def predict(self, X):\n",
        "        X = np.vander(X, self.degree + 1)\n",
        "        return np.dot(X, self.weights)\n",
        "\n",
        "    def score(self, X, y):\n",
        "        y_pred = self.predict(X)\n",
        "        error = y_pred - y\n",
        "        self.score_mse = np.mean(error ** 2)\n",
        "        return self.score_mse\n",
        "\n"
      ],
      "metadata": {
        "id": "Bdebn2tWBhBp"
      },
      "execution_count": null,
      "outputs": []
    },
    {
      "cell_type": "code",
      "source": [
        "best_model = PolynomialRegression(2)\n",
        "best_model.score(predictor, response)\n",
        "\n",
        "for i in range(2, 26):\n",
        "\n",
        "  model = PolynomialRegression(i)\n",
        "  model.fit(predictor, response)\n",
        "  model.score(predictor, response)\n",
        "  # print(f\"compared {model.score_mse, best_model.score_mse}\")\n",
        "\n",
        "  if(model.score_mse < best_model.score_mse):\n",
        "    best_model = model\n",
        "\n",
        "best_model.degree, best_model.score_mse"
      ],
      "metadata": {
        "colab": {
          "base_uri": "https://localhost:8080/"
        },
        "id": "skGVqfjPCEaj",
        "outputId": "b2d3dd23-bb17-4fc7-9671-07afde1a0e2e"
      },
      "execution_count": null,
      "outputs": [
        {
          "output_type": "execute_result",
          "data": {
            "text/plain": [
              "(19, 0.06781106117543154)"
            ]
          },
          "metadata": {},
          "execution_count": 9
        }
      ]
    },
    {
      "cell_type": "code",
      "source": [
        "coeff = np.poly1d(best_model.weights)\n",
        "model = PolynomialRegression(25, alpha=0.001, max_iter=1000)\n",
        "model.fit(predictor, response)\n",
        "model.score(predictor, response)"
      ],
      "metadata": {
        "colab": {
          "base_uri": "https://localhost:8080/"
        },
        "id": "jDRfL687EUUl",
        "outputId": "42b34ab9-0e3f-4ac3-d5ce-4b3cf65b3016"
      },
      "execution_count": null,
      "outputs": [
        {
          "output_type": "execute_result",
          "data": {
            "text/plain": [
              "0.5129412823185533"
            ]
          },
          "metadata": {},
          "execution_count": 11
        }
      ]
    },
    {
      "cell_type": "code",
      "source": [
        "#@title Plotting the  curve using coefficients obtained from best model\n",
        "output = coeff(predictor)\n",
        "plt.plot(predictor, output)\n",
        "plt.plot(predictor, response, 'r+')\n",
        "plt.xlabel('Predictor')\n",
        "plt.ylabel('Response')\n",
        "plt.title('Sampled Data Points')\n",
        "plt.show()\n",
        "\n"
      ],
      "metadata": {
        "colab": {
          "base_uri": "https://localhost:8080/",
          "height": 472
        },
        "cellView": "form",
        "id": "fCQBh0y57mU9",
        "outputId": "b52fd9e9-e9b6-45a8-dcc8-cd198b3d43d6"
      },
      "execution_count": null,
      "outputs": [
        {
          "output_type": "display_data",
          "data": {
            "text/plain": [
              "<Figure size 640x480 with 1 Axes>"
            ],
            "image/png": "[encoded data removed]"
          },
          "metadata": {}
        }
      ]
    },
    {
      "cell_type": "markdown",
      "source": [
        "Clearly, there is overfitting, from observation, increasing the value of k results the best model everytime. (i.e, the highest value of k has the last mse due to overfitting). Lets continue with the value `k=19` and see what we can improve using L1 and L2 regularization.\n",
        "\n",
        "### L1 regularization\n",
        "The term involves `|w|`, taking its derivative only makes it a constant but we retain the 2 in the denominator since theres no derivative cancelling it out now.\n",
        "\n",
        "### L2 regularization\n",
        "The term involves `w^2` (omega square), minimizing the cost function now results in having to add another factor = `lambda*omega`, in our implementation we have taken `w` common."
      ],
      "metadata": {
        "id": "2SzSSKEFJHPA"
      }
    },
    {
      "cell_type": "code",
      "source": [
        "best_model_l1 = PolynomialRegression(19)\n",
        "best_model_l1.score(predictor, response)\n",
        "lamda_values = [0.001, 0.01, 0.1, 1]\n",
        "best_lamda  = 0.001\n",
        "for i in lamda_values:\n",
        "\n",
        "  model = PolynomialRegression(19)\n",
        "  model.l1_fit(predictor, response, i)\n",
        "  model.score(predictor, response)\n",
        "  if(model.score_mse < best_model_l1.score_mse):\n",
        "    best_model_l1 = model\n",
        "    best_lamda = i\n",
        "\n",
        "best_model_l1.degree, best_lamda, best_model_l1.score_mse"
      ],
      "metadata": {
        "colab": {
          "base_uri": "https://localhost:8080/"
        },
        "id": "ER2tMiUXJGwT",
        "outputId": "8c9e6b43-67db-4291-aa3e-718c23f9dff6"
      },
      "execution_count": null,
      "outputs": [
        {
          "output_type": "execute_result",
          "data": {
            "text/plain": [
              "(19, 0.1, 0.011417803491981347)"
            ]
          },
          "metadata": {},
          "execution_count": 13
        }
      ]
    },
    {
      "cell_type": "code",
      "source": [
        "#@title Plotting the  curve using coefficients obtained from best model (L1 regularization)\n",
        "coeff_l1 = np.poly1d(best_model_l1.weights)\n",
        "output = coeff_l1(predictor)\n",
        "plt.plot(predictor, output)\n",
        "plt.plot(predictor, response, 'r+')\n",
        "plt.xlabel('Predictor')\n",
        "plt.ylabel('Response')\n",
        "plt.title('Sampled Data Points')\n",
        "plt.show()"
      ],
      "metadata": {
        "colab": {
          "base_uri": "https://localhost:8080/",
          "height": 472
        },
        "cellView": "form",
        "id": "GGaGEjozQ28-",
        "outputId": "2f3fbef2-3815-4697-f367-f12b61ad80ab"
      },
      "execution_count": null,
      "outputs": [
        {
          "output_type": "display_data",
          "data": {
            "text/plain": [
              "<Figure size 640x480 with 1 Axes>"
            ],
            "image/png": "[encoded data removed]"
          },
          "metadata": {}
        }
      ]
    },
    {
      "cell_type": "code",
      "source": [
        "best_model_l2 = PolynomialRegression(19)\n",
        "best_model_l2.score(predictor, response)\n",
        "lamda_values = [0.001, 0.01, 0.1, 1]\n",
        "best_lamda  = 0.001\n",
        "for i in lamda_values:\n",
        "\n",
        "  model = PolynomialRegression(19)\n",
        "  model.l2_fit(predictor, response, i)\n",
        "  model.score(predictor, response)\n",
        "  if(model.score_mse < best_model_l2.score_mse):\n",
        "    best_model_l2 = model\n",
        "    best_lamda = i\n",
        "\n",
        "best_model_l2.degree, best_lamda, best_model_l2.score_mse"
      ],
      "metadata": {
        "colab": {
          "base_uri": "https://localhost:8080/"
        },
        "id": "4Qhw9TXKRIT3",
        "outputId": "9baca4e4-de4c-4531-8329-2943a783b03f"
      },
      "execution_count": null,
      "outputs": [
        {
          "output_type": "execute_result",
          "data": {
            "text/plain": [
              "(19, 0.001, 0.0689633779455826)"
            ]
          },
          "metadata": {},
          "execution_count": 15
        }
      ]
    },
    {
      "cell_type": "code",
      "source": [
        "#@title Plotting the  curve using coefficients obtained from best model (L2 regularization)\n",
        "coeff_l2 = np.poly1d(best_model_l2.weights)\n",
        "output = coeff_l2(predictor)\n",
        "plt.plot(predictor, output)\n",
        "plt.plot(predictor, response, 'r+')\n",
        "plt.xlabel('Predictor')\n",
        "plt.ylabel('Response')\n",
        "plt.title('Sampled Data Points')\n",
        "plt.show()"
      ],
      "metadata": {
        "colab": {
          "base_uri": "https://localhost:8080/",
          "height": 472
        },
        "cellView": "form",
        "id": "DG06LfytRUkS",
        "outputId": "3d9f325a-57de-46e4-f565-bc42403f498d"
      },
      "execution_count": null,
      "outputs": [
        {
          "output_type": "display_data",
          "data": {
            "text/plain": [
              "<Figure size 640x480 with 1 Axes>"
            ],
            "image/png": "[encoded data removed]"
          },
          "metadata": {}
        }
      ]
    },
    {
      "cell_type": "markdown",
      "source": [
        "## Error metrics and Observations\n",
        "Model | Error (MSE) | Best Lambda value\n",
        "-------------------|------------------|-----------\n",
        "Normal Fit       | 0.06781106117543154 | -\n",
        "L1 Regularizaiton     | 0.011417803491981347 | 0.1\n",
        "L2 Regularization  |   0.0689633779455826 | 0.001"
      ],
      "metadata": {
        "id": "GCLmZ6UnRlpS"
      }
    },
    {
      "cell_type": "markdown",
      "metadata": {
        "id": "jvlMEbh_b0pN"
      },
      "source": [
        "### Part 2: Credit Data\n",
        "\n",
        "In this part, we work with the credit.csv file that predicts `Balance` after looking at predictors like `Income`, `Age`, `Limit`, etc. Your task is to understand the relationship between the predictors and response using linear regression techniques. Specifically:\n",
        "\n",
        "1. Perform multiple linear regression on the dataset. $(Y=\\sum\\beta_iX_i+\\epsilon)$\n",
        "2. Test whether all the variables are needed to predict `Balance` or if any of them can be discarded.\n",
        "3. Test for [interaction effects](https://en.wikipedia.org/wiki/Interaction_(statistics)#In_regression) between `Rating` and `Age`.\n",
        "\n",
        "As before, perform the above experiments by obtaining and reporting error metrics for all experiments."
      ]
    },
    {
      "cell_type": "code",
      "execution_count": null,
      "metadata": {
        "colab": {
          "base_uri": "https://localhost:8080/",
          "height": 206
        },
        "id": "14AuOLx02x-U",
        "outputId": "749b23c5-c5cf-449b-8495-db067d1e74a5"
      },
      "outputs": [
        {
          "output_type": "execute_result",
          "data": {
            "text/plain": [
              "    Income  Limit  Rating  Cards  Age  Education  Balance\n",
              "0   14.891   3606     283      2   34         11      333\n",
              "1  106.025   6645     483      3   82         15      903\n",
              "2  104.593   7075     514      4   71         11      580\n",
              "3  148.924   9504     681      3   36         11      964\n",
              "4   55.882   4897     357      2   68         16      331"
            ],
            "text/html": [
              "\n",
              "  <div id=\"df-ee9e2cb4-ae1a-42b9-925b-b31b34b99ba1\" class=\"colab-df-container\">\n",
              "    <div>\n",
              "<style scoped>\n",
              "    .dataframe tbody tr th:only-of-type {\n",
              "        vertical-align: middle;\n",
              "    }\n",
              "\n",
              "    .dataframe tbody tr th {\n",
              "        vertical-align: top;\n",
              "    }\n",
              "\n",
              "    .dataframe thead th {\n",
              "        text-align: right;\n",
              "    }\n",
              "</style>\n",
              "<table border=\"1\" class=\"dataframe\">\n",
              "  <thead>\n",
              "    <tr style=\"text-align: right;\">\n",
              "      <th></th>\n",
              "      <th>Income</th>\n",
              "      <th>Limit</th>\n",
              "      <th>Rating</th>\n",
              "      <th>Cards</th>\n",
              "      <th>Age</th>\n",
              "      <th>Education</th>\n",
              "      <th>Balance</th>\n",
              "    </tr>\n",
              "  </thead>\n",
              "  <tbody>\n",
              "    <tr>\n",
              "      <th>0</th>\n",
              "      <td>14.891</td>\n",
              "      <td>3606</td>\n",
              "      <td>283</td>\n",
              "      <td>2</td>\n",
              "      <td>34</td>\n",
              "      <td>11</td>\n",
              "      <td>333</td>\n",
              "    </tr>\n",
              "    <tr>\n",
              "      <th>1</th>\n",
              "      <td>106.025</td>\n",
              "      <td>6645</td>\n",
              "      <td>483</td>\n",
              "      <td>3</td>\n",
              "      <td>82</td>\n",
              "      <td>15</td>\n",
              "      <td>903</td>\n",
              "    </tr>\n",
              "    <tr>\n",
              "      <th>2</th>\n",
              "      <td>104.593</td>\n",
              "      <td>7075</td>\n",
              "      <td>514</td>\n",
              "      <td>4</td>\n",
              "      <td>71</td>\n",
              "      <td>11</td>\n",
              "      <td>580</td>\n",
              "    </tr>\n",
              "    <tr>\n",
              "      <th>3</th>\n",
              "      <td>148.924</td>\n",
              "      <td>9504</td>\n",
              "      <td>681</td>\n",
              "      <td>3</td>\n",
              "      <td>36</td>\n",
              "      <td>11</td>\n",
              "      <td>964</td>\n",
              "    </tr>\n",
              "    <tr>\n",
              "      <th>4</th>\n",
              "      <td>55.882</td>\n",
              "      <td>4897</td>\n",
              "      <td>357</td>\n",
              "      <td>2</td>\n",
              "      <td>68</td>\n",
              "      <td>16</td>\n",
              "      <td>331</td>\n",
              "    </tr>\n",
              "  </tbody>\n",
              "</table>\n",
              "</div>\n",
              "    <div class=\"colab-df-buttons\">\n",
              "\n",
              "  <div class=\"colab-df-container\">\n",
              "    <button class=\"colab-df-convert\" onclick=\"convertToInteractive('df-ee9e2cb4-ae1a-42b9-925b-b31b34b99ba1')\"\n",
              "            title=\"Convert this dataframe to an interactive table.\"\n",
              "            style=\"display:none;\">\n",
              "\n",
              "  <svg xmlns=\"http://www.w3.org/2000/svg\" height=\"24px\" viewBox=\"0 -960 960 960\">\n",
              "    <path d=\"M120-120v-720h720v720H120Zm60-500h600v-160H180v160Zm220 220h160v-160H400v160Zm0 220h160v-160H400v160ZM180-400h160v-160H180v160Zm440 0h160v-160H620v160ZM180-180h160v-160H180v160Zm440 0h160v-160H620v160Z\"/>\n",
              "  </svg>\n",
              "    </button>\n",
              "\n",
              "  <style>\n",
              "    .colab-df-container {\n",
              "      display:flex;\n",
              "      gap: 12px;\n",
              "    }\n",
              "\n",
              "    .colab-df-convert {\n",
              "      background-color: #E8F0FE;\n",
              "      border: none;\n",
              "      border-radius: 50%;\n",
              "      cursor: pointer;\n",
              "      display: none;\n",
              "      fill: #1967D2;\n",
              "      height: 32px;\n",
              "      padding: 0 0 0 0;\n",
              "      width: 32px;\n",
              "    }\n",
              "\n",
              "    .colab-df-convert:hover {\n",
              "      background-color: #E2EBFA;\n",
              "      box-shadow: 0px 1px 2px rgba(60, 64, 67, 0.3), 0px 1px 3px 1px rgba(60, 64, 67, 0.15);\n",
              "      fill: #174EA6;\n",
              "    }\n",
              "\n",
              "    .colab-df-buttons div {\n",
              "      margin-bottom: 4px;\n",
              "    }\n",
              "\n",
              "    [theme=dark] .colab-df-convert {\n",
              "      background-color: #3B4455;\n",
              "      fill: #D2E3FC;\n",
              "    }\n",
              "\n",
              "    [theme=dark] .colab-df-convert:hover {\n",
              "      background-color: #434B5C;\n",
              "      box-shadow: 0px 1px 3px 1px rgba(0, 0, 0, 0.15);\n",
              "      filter: drop-shadow(0px 1px 2px rgba(0, 0, 0, 0.3));\n",
              "      fill: #FFFFFF;\n",
              "    }\n",
              "  </style>\n",
              "\n",
              "    <script>\n",
              "      const buttonEl =\n",
              "        document.querySelector('#df-ee9e2cb4-ae1a-42b9-925b-b31b34b99ba1 button.colab-df-convert');\n",
              "      buttonEl.style.display =\n",
              "        google.colab.kernel.accessAllowed ? 'block' : 'none';\n",
              "\n",
              "      async function convertToInteractive(key) {\n",
              "        const element = document.querySelector('#df-ee9e2cb4-ae1a-42b9-925b-b31b34b99ba1');\n",
              "        const dataTable =\n",
              "          await google.colab.kernel.invokeFunction('convertToInteractive',\n",
              "                                                    [key], {});\n",
              "        if (!dataTable) return;\n",
              "\n",
              "        const docLinkHtml = 'Like what you see? Visit the ' +\n",
              "          '<a target=\"_blank\" href=https://colab.research.google.com/notebooks/data_table.ipynb>data table notebook</a>'\n",
              "          + ' to learn more about interactive tables.';\n",
              "        element.innerHTML = '';\n",
              "        dataTable['output_type'] = 'display_data';\n",
              "        await google.colab.output.renderOutput(dataTable, element);\n",
              "        const docLink = document.createElement('div');\n",
              "        docLink.innerHTML = docLinkHtml;\n",
              "        element.appendChild(docLink);\n",
              "      }\n",
              "    </script>\n",
              "  </div>\n",
              "\n",
              "\n",
              "<div id=\"df-85925d7e-fd2f-44c4-a62f-af8e9acaf333\">\n",
              "  <button class=\"colab-df-quickchart\" onclick=\"quickchart('df-85925d7e-fd2f-44c4-a62f-af8e9acaf333')\"\n",
              "            title=\"Suggest charts\"\n",
              "            style=\"display:none;\">\n",
              "\n",
              "<svg xmlns=\"http://www.w3.org/2000/svg\" height=\"24px\"viewBox=\"0 0 24 24\"\n",
              "     width=\"24px\">\n",
              "    <g>\n",
              "        <path d=\"M19 3H5c-1.1 0-2 .9-2 2v14c0 1.1.9 2 2 2h14c1.1 0 2-.9 2-2V5c0-1.1-.9-2-2-2zM9 17H7v-7h2v7zm4 0h-2V7h2v10zm4 0h-2v-4h2v4z\"/>\n",
              "    </g>\n",
              "</svg>\n",
              "  </button>\n",
              "\n",
              "<style>\n",
              "  .colab-df-quickchart {\n",
              "      --bg-color: #E8F0FE;\n",
              "      --fill-color: #1967D2;\n",
              "      --hover-bg-color: #E2EBFA;\n",
              "      --hover-fill-color: #174EA6;\n",
              "      --disabled-fill-color: #AAA;\n",
              "      --disabled-bg-color: #DDD;\n",
              "  }\n",
              "\n",
              "  [theme=dark] .colab-df-quickchart {\n",
              "      --bg-color: #3B4455;\n",
              "      --fill-color: #D2E3FC;\n",
              "      --hover-bg-color: #434B5C;\n",
              "      --hover-fill-color: #FFFFFF;\n",
              "      --disabled-bg-color: #3B4455;\n",
              "      --disabled-fill-color: #666;\n",
              "  }\n",
              "\n",
              "  .colab-df-quickchart {\n",
              "    background-color: var(--bg-color);\n",
              "    border: none;\n",
              "    border-radius: 50%;\n",
              "    cursor: pointer;\n",
              "    display: none;\n",
              "    fill: var(--fill-color);\n",
              "    height: 32px;\n",
              "    padding: 0;\n",
              "    width: 32px;\n",
              "  }\n",
              "\n",
              "  .colab-df-quickchart:hover {\n",
              "    background-color: var(--hover-bg-color);\n",
              "    box-shadow: 0 1px 2px rgba(60, 64, 67, 0.3), 0 1px 3px 1px rgba(60, 64, 67, 0.15);\n",
              "    fill: var(--button-hover-fill-color);\n",
              "  }\n",
              "\n",
              "  .colab-df-quickchart-complete:disabled,\n",
              "  .colab-df-quickchart-complete:disabled:hover {\n",
              "    background-color: var(--disabled-bg-color);\n",
              "    fill: var(--disabled-fill-color);\n",
              "    box-shadow: none;\n",
              "  }\n",
              "\n",
              "  .colab-df-spinner {\n",
              "    border: 2px solid var(--fill-color);\n",
              "    border-color: transparent;\n",
              "    border-bottom-color: var(--fill-color);\n",
              "    animation:\n",
              "      spin 1s steps(1) infinite;\n",
              "  }\n",
              "\n",
              "  @keyframes spin {\n",
              "    0% {\n",
              "      border-color: transparent;\n",
              "      border-bottom-color: var(--fill-color);\n",
              "      border-left-color: var(--fill-color);\n",
              "    }\n",
              "    20% {\n",
              "      border-color: transparent;\n",
              "      border-left-color: var(--fill-color);\n",
              "      border-top-color: var(--fill-color);\n",
              "    }\n",
              "    30% {\n",
              "      border-color: transparent;\n",
              "      border-left-color: var(--fill-color);\n",
              "      border-top-color: var(--fill-color);\n",
              "      border-right-color: var(--fill-color);\n",
              "    }\n",
              "    40% {\n",
              "      border-color: transparent;\n",
              "      border-right-color: var(--fill-color);\n",
              "      border-top-color: var(--fill-color);\n",
              "    }\n",
              "    60% {\n",
              "      border-color: transparent;\n",
              "      border-right-color: var(--fill-color);\n",
              "    }\n",
              "    80% {\n",
              "      border-color: transparent;\n",
              "      border-right-color: var(--fill-color);\n",
              "      border-bottom-color: var(--fill-color);\n",
              "    }\n",
              "    90% {\n",
              "      border-color: transparent;\n",
              "      border-bottom-color: var(--fill-color);\n",
              "    }\n",
              "  }\n",
              "</style>\n",
              "\n",
              "  <script>\n",
              "    async function quickchart(key) {\n",
              "      const quickchartButtonEl =\n",
              "        document.querySelector('#' + key + ' button');\n",
              "      quickchartButtonEl.disabled = true;  // To prevent multiple clicks.\n",
              "      quickchartButtonEl.classList.add('colab-df-spinner');\n",
              "      try {\n",
              "        const charts = await google.colab.kernel.invokeFunction(\n",
              "            'suggestCharts', [key], {});\n",
              "      } catch (error) {\n",
              "        console.error('Error during call to suggestCharts:', error);\n",
              "      }\n",
              "      quickchartButtonEl.classList.remove('colab-df-spinner');\n",
              "      quickchartButtonEl.classList.add('colab-df-quickchart-complete');\n",
              "    }\n",
              "    (() => {\n",
              "      let quickchartButtonEl =\n",
              "        document.querySelector('#df-85925d7e-fd2f-44c4-a62f-af8e9acaf333 button');\n",
              "      quickchartButtonEl.style.display =\n",
              "        google.colab.kernel.accessAllowed ? 'block' : 'none';\n",
              "    })();\n",
              "  </script>\n",
              "</div>\n",
              "\n",
              "    </div>\n",
              "  </div>\n"
            ]
          },
          "metadata": {},
          "execution_count": 17
        }
      ],
      "source": [
        "credit = pd.read_csv('/content/drive/MyDrive/SMAI/credit.csv') # pdf 86\n",
        "credit.head()"
      ]
    },
    {
      "cell_type": "markdown",
      "source": [
        "# Experiment\n",
        "We can simply use our polynomial regression, set the degree to be equal to 1, we then plan to check the coefficeint array and see which coefficeints dont matter/are insignificent."
      ],
      "metadata": {
        "id": "5RwYdR9UT4Kr"
      }
    },
    {
      "cell_type": "code",
      "source": [
        "credit.describe"
      ],
      "metadata": {
        "colab": {
          "base_uri": "https://localhost:8080/"
        },
        "id": "vu1h7x6GTSfr",
        "outputId": "a527adcd-a655-4eaf-f7b6-421fb4dfc01e"
      },
      "execution_count": null,
      "outputs": [
        {
          "output_type": "execute_result",
          "data": {
            "text/plain": [
              "<bound method NDFrame.describe of       Income  Limit  Rating  Cards  Age  Education  Balance\n",
              "0     14.891   3606     283      2   34         11      333\n",
              "1    106.025   6645     483      3   82         15      903\n",
              "2    104.593   7075     514      4   71         11      580\n",
              "3    148.924   9504     681      3   36         11      964\n",
              "4     55.882   4897     357      2   68         16      331\n",
              "..       ...    ...     ...    ...  ...        ...      ...\n",
              "395   12.096   4100     307      3   32         13      560\n",
              "396   13.364   3838     296      5   65         17      480\n",
              "397   57.872   4171     321      5   67         12      138\n",
              "398   37.728   2525     192      1   44         13        0\n",
              "399   18.701   5524     415      5   64          7      966\n",
              "\n",
              "[400 rows x 7 columns]>"
            ]
          },
          "metadata": {},
          "execution_count": 18
        }
      ]
    },
    {
      "cell_type": "code",
      "source": [
        "from sklearn.preprocessing import StandardScaler\n",
        "class MultipleLinearRegression:\n",
        "    def __init__(self, input_dim, alpha=0.01, scale=1):\n",
        "        self.w = [0] * input_dim\n",
        "        self.alpha = alpha\n",
        "        self.scaler = StandardScaler()\n",
        "        self.scale = scale\n",
        "\n",
        "    def fit(self, X, y, num_iter=25): # 25 since we dont have alot of features\n",
        "        X_scaled = self.scaler.fit_transform(X)\n",
        "        if self.scale == 0: X_scaled = X\n",
        "        m = len(X_scaled)\n",
        "        for i in range(num_iter):\n",
        "            y_pred = np.dot(X_scaled, self.w)\n",
        "            error = y_pred - y\n",
        "            gradient = np.dot(X_scaled.T, error) * (1/m)\n",
        "            self.w -= self.alpha * gradient\n",
        "\n",
        "    def predict(self, X):\n",
        "        X_scaled = self.scaler.transform(X)\n",
        "        if self.scale == 0: X_scaled = X\n",
        "        return np.dot(X_scaled, self.w)\n",
        "\n",
        "    def predict_interaction(self, X, interaction):\n",
        "      # 2 , 4 -> Rating, Age\n",
        "\n",
        "      X_scaled = self.scaler.transform(X)\n",
        "      if self.scale == 0: X_scaled = X\n",
        "      return np.dot(X_scaled, self.w) + interaction\n"
      ],
      "metadata": {
        "id": "YUn1vRS_WS9J"
      },
      "execution_count": null,
      "outputs": []
    },
    {
      "cell_type": "code",
      "source": [
        "from sklearn.model_selection import train_test_split\n",
        "X = credit.drop('Balance', axis=1)\n",
        "y = credit['Balance']\n",
        "X_train, X_test, y_train, y_test = train_test_split(X, y, test_size=0.2, random_state=42)\n",
        "X_train.shape, X_test.shape, y_train.shape, y_test.shape"
      ],
      "metadata": {
        "colab": {
          "base_uri": "https://localhost:8080/"
        },
        "id": "rCevbmYQUHVh",
        "outputId": "6c5490be-cb03-48e1-befd-505dabe78372"
      },
      "execution_count": null,
      "outputs": [
        {
          "output_type": "execute_result",
          "data": {
            "text/plain": [
              "((320, 6), (80, 6), (320,), (80,))"
            ]
          },
          "metadata": {},
          "execution_count": 44
        }
      ]
    },
    {
      "cell_type": "code",
      "source": [
        "credit_model = MultipleLinearRegression(6)\n",
        "credit_model.fit(X_train , y_train)\n",
        "for x, y in zip(X.columns, credit_model.w):\n",
        "  print(f\"{x} coeff -> {y}\")"
      ],
      "metadata": {
        "colab": {
          "base_uri": "https://localhost:8080/"
        },
        "id": "Q3sUvmgYVQff",
        "outputId": "00e12391-7324-4e42-fa9e-f1a7bc940aa5"
      },
      "execution_count": null,
      "outputs": [
        {
          "output_type": "stream",
          "name": "stdout",
          "text": [
            "Income coeff -> 38.13384056379639\n",
            "Limit coeff -> 78.3662154698666\n",
            "Rating coeff -> 78.43279028881274\n",
            "Cards coeff -> 10.194167234654898\n",
            "Age coeff -> -0.4595323548380972\n",
            "Education coeff -> -1.579702865584169\n"
          ]
        }
      ]
    },
    {
      "cell_type": "code",
      "source": [
        "from sklearn.metrics import mean_squared_error\n",
        "y_pred = credit_model.predict(X_test)\n",
        "mse = mean_squared_error(y_test, y_pred)\n",
        "print(f\"MSE: {mse}, RMSE per feature: {np.sqrt(mse)/6}\")"
      ],
      "metadata": {
        "colab": {
          "base_uri": "https://localhost:8080/"
        },
        "id": "y5LbX3xSbUCU",
        "outputId": "040b5b88-e961-4221-9c8c-b1760956366c"
      },
      "execution_count": null,
      "outputs": [
        {
          "output_type": "stream",
          "name": "stdout",
          "text": [
            "MSE: 376376.3267272584, RMSE per feature: 102.24919542297664\n"
          ]
        }
      ]
    },
    {
      "cell_type": "markdown",
      "source": [
        "The coefficients of education and age seem negligible in scale, even cards is somewhat small. These features may not be very relevant. We do observe however that the Income coefficient is significant while Limit and Rating hold the most regard.\n",
        "\n",
        "**Note**: The `num_iter`  variable has been tested and adjusted for values `3, 5, 10, 25, 50` the ratio of these coefficeints remain (roughly) the same.\n",
        "\n",
        "Lets test the model without scaling the features."
      ],
      "metadata": {
        "id": "NwRdawckascj"
      }
    },
    {
      "cell_type": "code",
      "source": [
        "credit_model_2 = MultipleLinearRegression(6, scale=0)\n",
        "credit_model_2.fit(X_train , y_train, num_iter=3)\n",
        "for x, y in zip(X.columns, credit_model_2.w):\n",
        "  print(f\"{x} coeff -> {y}\")"
      ],
      "metadata": {
        "colab": {
          "base_uri": "https://localhost:8080/"
        },
        "id": "LjbuuPEwnPcj",
        "outputId": "a7712b29-da72-4222-cc6f-b23725742959"
      },
      "execution_count": null,
      "outputs": [
        {
          "output_type": "stream",
          "name": "stdout",
          "text": [
            "Income coeff -> 27503739004140.562\n",
            "Limit coeff -> 2739939037614030.5\n",
            "Rating coeff -> 200940308602924.62\n",
            "Cards coeff -> 1359761111997.2131\n",
            "Age coeff -> 26530022143317.098\n",
            "Education coeff -> 6217020529517.458\n"
          ]
        }
      ]
    },
    {
      "cell_type": "markdown",
      "source": [
        "# Interaction Effects\n",
        "Lets first start by testing what the effect of Rating and Age is on our prediction."
      ],
      "metadata": {
        "id": "qkH6Vk6bVJ5D"
      }
    },
    {
      "cell_type": "code",
      "source": [
        "coeff_1 = simpleRegression_coeff(credit['Rating'], credit['Balance'])\n",
        "line_1 = coeff_1[0]*credit['Rating'] + coeff_1[1]"
      ],
      "metadata": {
        "id": "U74PnUoZWeIf"
      },
      "execution_count": null,
      "outputs": []
    },
    {
      "cell_type": "code",
      "source": [
        "#@title Plotting the line\n",
        "plt.plot(credit['Rating'], credit['Balance'], 'r+')\n",
        "plt.xlabel('Rating')\n",
        "plt.ylabel('Balance')\n",
        "plt.title('Sampled Data Points')\n",
        "plt.plot(credit['Rating'], line_1, label='Regression Line', linewidth=2)\n",
        "plt.show()"
      ],
      "metadata": {
        "colab": {
          "base_uri": "https://localhost:8080/",
          "height": 472
        },
        "id": "x8oxdE2bWMuN",
        "outputId": "bc274ab7-f883-4ced-bb44-0a283d05ee10"
      },
      "execution_count": null,
      "outputs": [
        {
          "output_type": "display_data",
          "data": {
            "text/plain": [
              "<Figure size 640x480 with 1 Axes>"
            ],
            "image/png": "[encoded data removed]"
          },
          "metadata": {}
        }
      ]
    },
    {
      "cell_type": "code",
      "source": [
        "coeff_2 = simpleRegression_coeff(credit['Age'], credit['Balance'])\n",
        "line_2 = coeff_2[0]*credit['Age'] + coeff_2[1]"
      ],
      "metadata": {
        "id": "C7JRj2zdXmOR"
      },
      "execution_count": null,
      "outputs": []
    },
    {
      "cell_type": "code",
      "source": [
        "#@title Plotting the line\n",
        "plt.plot(credit['Age'], credit['Balance'], 'r+')\n",
        "plt.xlabel('Age')\n",
        "plt.ylabel('Balance')\n",
        "plt.title('Sampled Data Points')\n",
        "plt.plot(credit['Age'], line_2, label='Regression Line', linewidth=2)\n",
        "plt.show()"
      ],
      "metadata": {
        "colab": {
          "base_uri": "https://localhost:8080/",
          "height": 472
        },
        "cellView": "form",
        "id": "ur1xmuAsX5Hd",
        "outputId": "24f560f6-88c9-4bdb-80eb-bc0a6f5e5ec5"
      },
      "execution_count": null,
      "outputs": [
        {
          "output_type": "display_data",
          "data": {
            "text/plain": [
              "<Figure size 640x480 with 1 Axes>"
            ],
            "image/png": "[encoded data removed]"
          },
          "metadata": {}
        }
      ]
    },
    {
      "cell_type": "code",
      "source": [
        "coeff_3 = simpleRegression_coeff(credit['Age']*credit['Rating'], credit['Balance'])\n",
        "line_3 = coeff_3[0]*credit['Age']*credit['Rating'] + coeff_3[1]"
      ],
      "metadata": {
        "id": "HJZyY1MNYEIk"
      },
      "execution_count": null,
      "outputs": []
    },
    {
      "cell_type": "code",
      "source": [
        "#@title Plotting the line for interaction term (product of the two)\n",
        "plt.plot(credit['Rating']*credit['Age'], credit['Balance'], 'r+')\n",
        "plt.xlabel('Rating')\n",
        "plt.ylabel('Balance')\n",
        "plt.title('Sampled Data Points')\n",
        "plt.plot(credit['Rating']*credit['Age'], line_3, label='Regression Line', linewidth=2)\n",
        "plt.show()"
      ],
      "metadata": {
        "colab": {
          "base_uri": "https://localhost:8080/",
          "height": 472
        },
        "id": "-Sau8ygUY2NJ",
        "outputId": "11cf64dc-f4e6-4ea2-c9b2-276d73015476"
      },
      "execution_count": null,
      "outputs": [
        {
          "output_type": "display_data",
          "data": {
            "text/plain": [
              "<Figure size 640x480 with 1 Axes>"
            ],
            "image/png": "[encoded data removed]"
          },
          "metadata": {}
        }
      ]
    },
    {
      "cell_type": "markdown",
      "source": [
        "Lets try adding this term to our model to get the interaction effect"
      ],
      "metadata": {
        "id": "PVCBIFLtZnYv"
      }
    },
    {
      "cell_type": "code",
      "source": [
        "y_pred = credit_model.predict(X_test)\n",
        "for i in range(len(X_test)):\n",
        "  y_pred[i] += X_test.iloc[i]['Rating']*X_test.iloc[i]['Age']\n",
        "\n",
        "y_pred_min = min(y_pred)\n",
        "y_pred_max = max(y_pred)\n",
        "y_pred_scaled = [(x - y_pred_min) / (y_pred_max - y_pred_min) for x in y_pred]\n",
        "\n",
        "# inverse scaling to get back to the original scale\n",
        "y_pred_original_scale = [x * (y_pred_max - y_pred_min) + y_pred_min for x in y_pred_scaled]\n",
        "\n",
        "mse = mean_squared_error(y_test, y_pred_original_scale)\n",
        "print(f\"MSE: {mse}, RMSE per feature: {np.sqrt(mse)/6}\")"
      ],
      "metadata": {
        "colab": {
          "base_uri": "https://localhost:8080/"
        },
        "id": "cbijI3YHZnE3",
        "outputId": "8bd07058-1766-4d4c-8ded-d572bfe4b1f4"
      },
      "execution_count": null,
      "outputs": [
        {
          "output_type": "stream",
          "name": "stdout",
          "text": [
            "MSE: 441389858.8564064, RMSE per feature: 3501.546717191983\n"
          ]
        }
      ]
    },
    {
      "cell_type": "markdown",
      "metadata": {
        "id": "wDFv0bB-0Wfx"
      },
      "source": [
        "### Part 3: Shark Attacks\n",
        "\n",
        "This is a fun dataset that aims to predict the number of shark attacks (`SharkAttacks`) using variables like `Year`, `Month`, `Temperature`, and `IceCreamSales`. This dataset has been used in popular media to show how correlation does not imply causation. Test whether predictions made with ice cream sales data are any better/worse than predictions made by neglecting ice cream sales data.\n",
        "\n",
        "This sort of analysis reminds us that it is important to look at the data before using it for learning representations."
      ]
    },
    {
      "cell_type": "code",
      "execution_count": null,
      "metadata": {
        "colab": {
          "base_uri": "https://localhost:8080/",
          "height": 206
        },
        "id": "GgftPmoIDChS",
        "outputId": "4afbfabc-a5fc-415b-cf9b-e34fe2b12a89"
      },
      "outputs": [
        {
          "output_type": "execute_result",
          "data": {
            "text/plain": [
              "   Year  Month  SharkAttacks  Temperature  IceCreamSales\n",
              "0  2008      1            25         11.9             76\n",
              "1  2008      2            28         15.2             79\n",
              "2  2008      3            32         17.2             91\n",
              "3  2008      4            35         18.5             95\n",
              "4  2008      5            38         19.4            103"
            ],
            "text/html": [
              "\n",
              "  <div id=\"df-0b989c20-aa0d-437c-96e9-990b6fd083c8\" class=\"colab-df-container\">\n",
              "    <div>\n",
              "<style scoped>\n",
              "    .dataframe tbody tr th:only-of-type {\n",
              "        vertical-align: middle;\n",
              "    }\n",
              "\n",
              "    .dataframe tbody tr th {\n",
              "        vertical-align: top;\n",
              "    }\n",
              "\n",
              "    .dataframe thead th {\n",
              "        text-align: right;\n",
              "    }\n",
              "</style>\n",
              "<table border=\"1\" class=\"dataframe\">\n",
              "  <thead>\n",
              "    <tr style=\"text-align: right;\">\n",
              "      <th></th>\n",
              "      <th>Year</th>\n",
              "      <th>Month</th>\n",
              "      <th>SharkAttacks</th>\n",
              "      <th>Temperature</th>\n",
              "      <th>IceCreamSales</th>\n",
              "    </tr>\n",
              "  </thead>\n",
              "  <tbody>\n",
              "    <tr>\n",
              "      <th>0</th>\n",
              "      <td>2008</td>\n",
              "      <td>1</td>\n",
              "      <td>25</td>\n",
              "      <td>11.9</td>\n",
              "      <td>76</td>\n",
              "    </tr>\n",
              "    <tr>\n",
              "      <th>1</th>\n",
              "      <td>2008</td>\n",
              "      <td>2</td>\n",
              "      <td>28</td>\n",
              "      <td>15.2</td>\n",
              "      <td>79</td>\n",
              "    </tr>\n",
              "    <tr>\n",
              "      <th>2</th>\n",
              "      <td>2008</td>\n",
              "      <td>3</td>\n",
              "      <td>32</td>\n",
              "      <td>17.2</td>\n",
              "      <td>91</td>\n",
              "    </tr>\n",
              "    <tr>\n",
              "      <th>3</th>\n",
              "      <td>2008</td>\n",
              "      <td>4</td>\n",
              "      <td>35</td>\n",
              "      <td>18.5</td>\n",
              "      <td>95</td>\n",
              "    </tr>\n",
              "    <tr>\n",
              "      <th>4</th>\n",
              "      <td>2008</td>\n",
              "      <td>5</td>\n",
              "      <td>38</td>\n",
              "      <td>19.4</td>\n",
              "      <td>103</td>\n",
              "    </tr>\n",
              "  </tbody>\n",
              "</table>\n",
              "</div>\n",
              "    <div class=\"colab-df-buttons\">\n",
              "\n",
              "  <div class=\"colab-df-container\">\n",
              "    <button class=\"colab-df-convert\" onclick=\"convertToInteractive('df-0b989c20-aa0d-437c-96e9-990b6fd083c8')\"\n",
              "            title=\"Convert this dataframe to an interactive table.\"\n",
              "            style=\"display:none;\">\n",
              "\n",
              "  <svg xmlns=\"http://www.w3.org/2000/svg\" height=\"24px\" viewBox=\"0 -960 960 960\">\n",
              "    <path d=\"M120-120v-720h720v720H120Zm60-500h600v-160H180v160Zm220 220h160v-160H400v160Zm0 220h160v-160H400v160ZM180-400h160v-160H180v160Zm440 0h160v-160H620v160ZM180-180h160v-160H180v160Zm440 0h160v-160H620v160Z\"/>\n",
              "  </svg>\n",
              "    </button>\n",
              "\n",
              "  <style>\n",
              "    .colab-df-container {\n",
              "      display:flex;\n",
              "      gap: 12px;\n",
              "    }\n",
              "\n",
              "    .colab-df-convert {\n",
              "      background-color: #E8F0FE;\n",
              "      border: none;\n",
              "      border-radius: 50%;\n",
              "      cursor: pointer;\n",
              "      display: none;\n",
              "      fill: #1967D2;\n",
              "      height: 32px;\n",
              "      padding: 0 0 0 0;\n",
              "      width: 32px;\n",
              "    }\n",
              "\n",
              "    .colab-df-convert:hover {\n",
              "      background-color: #E2EBFA;\n",
              "      box-shadow: 0px 1px 2px rgba(60, 64, 67, 0.3), 0px 1px 3px 1px rgba(60, 64, 67, 0.15);\n",
              "      fill: #174EA6;\n",
              "    }\n",
              "\n",
              "    .colab-df-buttons div {\n",
              "      margin-bottom: 4px;\n",
              "    }\n",
              "\n",
              "    [theme=dark] .colab-df-convert {\n",
              "      background-color: #3B4455;\n",
              "      fill: #D2E3FC;\n",
              "    }\n",
              "\n",
              "    [theme=dark] .colab-df-convert:hover {\n",
              "      background-color: #434B5C;\n",
              "      box-shadow: 0px 1px 3px 1px rgba(0, 0, 0, 0.15);\n",
              "      filter: drop-shadow(0px 1px 2px rgba(0, 0, 0, 0.3));\n",
              "      fill: #FFFFFF;\n",
              "    }\n",
              "  </style>\n",
              "\n",
              "    <script>\n",
              "      const buttonEl =\n",
              "        document.querySelector('#df-0b989c20-aa0d-437c-96e9-990b6fd083c8 button.colab-df-convert');\n",
              "      buttonEl.style.display =\n",
              "        google.colab.kernel.accessAllowed ? 'block' : 'none';\n",
              "\n",
              "      async function convertToInteractive(key) {\n",
              "        const element = document.querySelector('#df-0b989c20-aa0d-437c-96e9-990b6fd083c8');\n",
              "        const dataTable =\n",
              "          await google.colab.kernel.invokeFunction('convertToInteractive',\n",
              "                                                    [key], {});\n",
              "        if (!dataTable) return;\n",
              "\n",
              "        const docLinkHtml = 'Like what you see? Visit the ' +\n",
              "          '<a target=\"_blank\" href=https://colab.research.google.com/notebooks/data_table.ipynb>data table notebook</a>'\n",
              "          + ' to learn more about interactive tables.';\n",
              "        element.innerHTML = '';\n",
              "        dataTable['output_type'] = 'display_data';\n",
              "        await google.colab.output.renderOutput(dataTable, element);\n",
              "        const docLink = document.createElement('div');\n",
              "        docLink.innerHTML = docLinkHtml;\n",
              "        element.appendChild(docLink);\n",
              "      }\n",
              "    </script>\n",
              "  </div>\n",
              "\n",
              "\n",
              "<div id=\"df-f6c3503e-778c-48c8-85ba-0824b4173a01\">\n",
              "  <button class=\"colab-df-quickchart\" onclick=\"quickchart('df-f6c3503e-778c-48c8-85ba-0824b4173a01')\"\n",
              "            title=\"Suggest charts\"\n",
              "            style=\"display:none;\">\n",
              "\n",
              "<svg xmlns=\"http://www.w3.org/2000/svg\" height=\"24px\"viewBox=\"0 0 24 24\"\n",
              "     width=\"24px\">\n",
              "    <g>\n",
              "        <path d=\"M19 3H5c-1.1 0-2 .9-2 2v14c0 1.1.9 2 2 2h14c1.1 0 2-.9 2-2V5c0-1.1-.9-2-2-2zM9 17H7v-7h2v7zm4 0h-2V7h2v10zm4 0h-2v-4h2v4z\"/>\n",
              "    </g>\n",
              "</svg>\n",
              "  </button>\n",
              "\n",
              "<style>\n",
              "  .colab-df-quickchart {\n",
              "      --bg-color: #E8F0FE;\n",
              "      --fill-color: #1967D2;\n",
              "      --hover-bg-color: #E2EBFA;\n",
              "      --hover-fill-color: #174EA6;\n",
              "      --disabled-fill-color: #AAA;\n",
              "      --disabled-bg-color: #DDD;\n",
              "  }\n",
              "\n",
              "  [theme=dark] .colab-df-quickchart {\n",
              "      --bg-color: #3B4455;\n",
              "      --fill-color: #D2E3FC;\n",
              "      --hover-bg-color: #434B5C;\n",
              "      --hover-fill-color: #FFFFFF;\n",
              "      --disabled-bg-color: #3B4455;\n",
              "      --disabled-fill-color: #666;\n",
              "  }\n",
              "\n",
              "  .colab-df-quickchart {\n",
              "    background-color: var(--bg-color);\n",
              "    border: none;\n",
              "    border-radius: 50%;\n",
              "    cursor: pointer;\n",
              "    display: none;\n",
              "    fill: var(--fill-color);\n",
              "    height: 32px;\n",
              "    padding: 0;\n",
              "    width: 32px;\n",
              "  }\n",
              "\n",
              "  .colab-df-quickchart:hover {\n",
              "    background-color: var(--hover-bg-color);\n",
              "    box-shadow: 0 1px 2px rgba(60, 64, 67, 0.3), 0 1px 3px 1px rgba(60, 64, 67, 0.15);\n",
              "    fill: var(--button-hover-fill-color);\n",
              "  }\n",
              "\n",
              "  .colab-df-quickchart-complete:disabled,\n",
              "  .colab-df-quickchart-complete:disabled:hover {\n",
              "    background-color: var(--disabled-bg-color);\n",
              "    fill: var(--disabled-fill-color);\n",
              "    box-shadow: none;\n",
              "  }\n",
              "\n",
              "  .colab-df-spinner {\n",
              "    border: 2px solid var(--fill-color);\n",
              "    border-color: transparent;\n",
              "    border-bottom-color: var(--fill-color);\n",
              "    animation:\n",
              "      spin 1s steps(1) infinite;\n",
              "  }\n",
              "\n",
              "  @keyframes spin {\n",
              "    0% {\n",
              "      border-color: transparent;\n",
              "      border-bottom-color: var(--fill-color);\n",
              "      border-left-color: var(--fill-color);\n",
              "    }\n",
              "    20% {\n",
              "      border-color: transparent;\n",
              "      border-left-color: var(--fill-color);\n",
              "      border-top-color: var(--fill-color);\n",
              "    }\n",
              "    30% {\n",
              "      border-color: transparent;\n",
              "      border-left-color: var(--fill-color);\n",
              "      border-top-color: var(--fill-color);\n",
              "      border-right-color: var(--fill-color);\n",
              "    }\n",
              "    40% {\n",
              "      border-color: transparent;\n",
              "      border-right-color: var(--fill-color);\n",
              "      border-top-color: var(--fill-color);\n",
              "    }\n",
              "    60% {\n",
              "      border-color: transparent;\n",
              "      border-right-color: var(--fill-color);\n",
              "    }\n",
              "    80% {\n",
              "      border-color: transparent;\n",
              "      border-right-color: var(--fill-color);\n",
              "      border-bottom-color: var(--fill-color);\n",
              "    }\n",
              "    90% {\n",
              "      border-color: transparent;\n",
              "      border-bottom-color: var(--fill-color);\n",
              "    }\n",
              "  }\n",
              "</style>\n",
              "\n",
              "  <script>\n",
              "    async function quickchart(key) {\n",
              "      const quickchartButtonEl =\n",
              "        document.querySelector('#' + key + ' button');\n",
              "      quickchartButtonEl.disabled = true;  // To prevent multiple clicks.\n",
              "      quickchartButtonEl.classList.add('colab-df-spinner');\n",
              "      try {\n",
              "        const charts = await google.colab.kernel.invokeFunction(\n",
              "            'suggestCharts', [key], {});\n",
              "      } catch (error) {\n",
              "        console.error('Error during call to suggestCharts:', error);\n",
              "      }\n",
              "      quickchartButtonEl.classList.remove('colab-df-spinner');\n",
              "      quickchartButtonEl.classList.add('colab-df-quickchart-complete');\n",
              "    }\n",
              "    (() => {\n",
              "      let quickchartButtonEl =\n",
              "        document.querySelector('#df-f6c3503e-778c-48c8-85ba-0824b4173a01 button');\n",
              "      quickchartButtonEl.style.display =\n",
              "        google.colab.kernel.accessAllowed ? 'block' : 'none';\n",
              "    })();\n",
              "  </script>\n",
              "</div>\n",
              "\n",
              "    </div>\n",
              "  </div>\n"
            ]
          },
          "metadata": {},
          "execution_count": 220
        }
      ],
      "source": [
        "sharks = pd.read_csv('/content/drive/MyDrive/SMAI/shark_attacks.csv')\n",
        "sharks.head()"
      ]
    },
    {
      "cell_type": "code",
      "execution_count": null,
      "metadata": {
        "id": "FVLNM47UDWNV",
        "colab": {
          "base_uri": "https://localhost:8080/"
        },
        "outputId": "df31fe94-46b7-4a1b-9220-da4e92eb5046"
      },
      "outputs": [
        {
          "output_type": "execute_result",
          "data": {
            "text/plain": [
              "<bound method NDFrame.describe of     Year  Month  SharkAttacks  Temperature  IceCreamSales\n",
              "0   2008      1            25    11.900000             76\n",
              "1   2008      2            28    15.200000             79\n",
              "2   2008      3            32    17.200000             91\n",
              "3   2008      4            35    18.500000             95\n",
              "4   2008      5            38    19.400000            103\n",
              "..   ...    ...           ...          ...            ...\n",
              "79  2014      8            36    23.744268            101\n",
              "80  2014      9            42    23.585229             78\n",
              "81  2014     10            50    17.719383             94\n",
              "82  2014     11            27    16.472557             72\n",
              "83  2014     12            32    14.686391             68\n",
              "\n",
              "[84 rows x 5 columns]>"
            ]
          },
          "metadata": {},
          "execution_count": 221
        }
      ],
      "source": [
        "sharks.describe"
      ]
    },
    {
      "cell_type": "code",
      "source": [
        "X = sharks.drop('SharkAttacks', axis=1)\n",
        "y = sharks['SharkAttacks']\n",
        "X_train, X_test, y_train, y_test = train_test_split(X, y, test_size=0.2, random_state=42)\n",
        "X_train.shape, X_test.shape, y_train.shape, y_test.shape"
      ],
      "metadata": {
        "colab": {
          "base_uri": "https://localhost:8080/"
        },
        "id": "yCttrSTfbMXJ",
        "outputId": "2b0b4717-07e2-448d-f99a-b2ab4032b191"
      },
      "execution_count": null,
      "outputs": [
        {
          "output_type": "execute_result",
          "data": {
            "text/plain": [
              "((67, 4), (17, 4), (67,), (17,))"
            ]
          },
          "metadata": {},
          "execution_count": 222
        }
      ]
    },
    {
      "cell_type": "code",
      "source": [
        "shark_model = MultipleLinearRegression(4)\n",
        "shark_model.fit(X_train , y_train)\n",
        "for x, y in zip(X.columns, shark_model.w):\n",
        "  print(f\"{x} coeff -> {y}\")"
      ],
      "metadata": {
        "colab": {
          "base_uri": "https://localhost:8080/"
        },
        "id": "hQvY5E6Tb_zB",
        "outputId": "618153e5-6b26-4b36-9dad-b319a249c0b3"
      },
      "execution_count": null,
      "outputs": [
        {
          "output_type": "stream",
          "name": "stdout",
          "text": [
            "Year coeff -> -0.11418976241339836\n",
            "Month coeff -> 1.019150373398705\n",
            "Temperature coeff -> 2.0932290820291417\n",
            "IceCreamSales coeff -> 1.3686759923925809\n"
          ]
        }
      ]
    },
    {
      "cell_type": "code",
      "source": [
        "y_pred = shark_model.predict(X_test)\n",
        "mse = mean_squared_error(y_test, y_pred)\n",
        "print(f\"MSE: {mse}, RMSE per feature: {np.sqrt(mse)/4}\")"
      ],
      "metadata": {
        "colab": {
          "base_uri": "https://localhost:8080/"
        },
        "id": "2YXIKWY6cGdf",
        "outputId": "098b2a32-a49c-495e-faf2-ce3b55287fb5"
      },
      "execution_count": null,
      "outputs": [
        {
          "output_type": "stream",
          "name": "stdout",
          "text": [
            "MSE: 1087.29827664564, RMSE per feature: 8.243551558057517\n"
          ]
        }
      ]
    },
    {
      "cell_type": "markdown",
      "source": [
        "Due to the small size of the dataset, the MSE is quite high, and observations made are very unreliable. Regardless the Icecreamsales coeff seem to have less signifiance, the temprature matters most. The significance of Year seems to be almost 0. Lets try dropping IceCreamSales and see if our peformance is better, we will alos try dropping the Year coeff."
      ],
      "metadata": {
        "id": "HHZX6Lt6chnj"
      }
    },
    {
      "cell_type": "code",
      "source": [
        "X = sharks.drop('SharkAttacks', axis=1)\n",
        "y = sharks['SharkAttacks']\n",
        "X = X.drop('IceCreamSales', axis=1)\n",
        "X_train, X_test, y_train, y_test = train_test_split(X, y, test_size=0.2, random_state=42)\n",
        "X_train.shape, X_test.shape, y_train.shape, y_test.shape"
      ],
      "metadata": {
        "colab": {
          "base_uri": "https://localhost:8080/"
        },
        "id": "1PTtOZzqcfHl",
        "outputId": "986e230d-60e2-4304-84fd-5e25de2cc63a"
      },
      "execution_count": null,
      "outputs": [
        {
          "output_type": "execute_result",
          "data": {
            "text/plain": [
              "((67, 3), (17, 3), (67,), (17,))"
            ]
          },
          "metadata": {},
          "execution_count": 225
        }
      ]
    },
    {
      "cell_type": "code",
      "source": [
        "shark_model = MultipleLinearRegression(3)\n",
        "shark_model.fit(X_train , y_train)\n",
        "for x, y in zip(X.columns, shark_model.w):\n",
        "  print(f\"{x} coeff -> {y}\")"
      ],
      "metadata": {
        "colab": {
          "base_uri": "https://localhost:8080/"
        },
        "id": "-ooGHmfKdCpm",
        "outputId": "f003761e-9365-44e2-f1ba-a804acc13b56"
      },
      "execution_count": null,
      "outputs": [
        {
          "output_type": "stream",
          "name": "stdout",
          "text": [
            "Year coeff -> -0.13140109029951053\n",
            "Month coeff -> 0.9422799358931154\n",
            "Temperature coeff -> 2.270879218585337\n"
          ]
        }
      ]
    },
    {
      "cell_type": "code",
      "source": [
        "y_pred = shark_model.predict(X_test)\n",
        "mse = mean_squared_error(y_test, y_pred)\n",
        "print(f\"MSE: {mse}, RMSE per feature: {np.sqrt(mse)/3}\")"
      ],
      "metadata": {
        "colab": {
          "base_uri": "https://localhost:8080/"
        },
        "id": "BGR9RDdhdFs9",
        "outputId": "7416326e-01fe-47ca-f4e3-bc4dd324e712"
      },
      "execution_count": null,
      "outputs": [
        {
          "output_type": "stream",
          "name": "stdout",
          "text": [
            "MSE: 1071.4031777040848, RMSE per feature: 10.910765212517227\n"
          ]
        }
      ]
    },
    {
      "cell_type": "markdown",
      "source": [
        "The RMSE seems to have gone slightly higher, but the coefficients havent changed alot still. lets try dropping Year now."
      ],
      "metadata": {
        "id": "9Op7q0NydK0t"
      }
    },
    {
      "cell_type": "code",
      "source": [
        "X = sharks.drop('SharkAttacks', axis=1)\n",
        "y = sharks['SharkAttacks']\n",
        "X = X.drop('Year', axis=1)\n",
        "X_train, X_test, y_train, y_test = train_test_split(X, y, test_size=0.2, random_state=42)\n",
        "X_train.shape, X_test.shape, y_train.shape, y_test.shape"
      ],
      "metadata": {
        "colab": {
          "base_uri": "https://localhost:8080/"
        },
        "id": "hZxslgqXdIVt",
        "outputId": "f1821a1e-96aa-4bf4-d1a1-d87fd9e3faf9"
      },
      "execution_count": null,
      "outputs": [
        {
          "output_type": "execute_result",
          "data": {
            "text/plain": [
              "((67, 3), (17, 3), (67,), (17,))"
            ]
          },
          "metadata": {},
          "execution_count": 228
        }
      ]
    },
    {
      "cell_type": "code",
      "source": [
        "shark_model = MultipleLinearRegression(3)\n",
        "shark_model.fit(X_train , y_train)\n",
        "for x, y in zip(X.columns, shark_model.w):\n",
        "  print(f\"{x} coeff -> {y}\")"
      ],
      "metadata": {
        "colab": {
          "base_uri": "https://localhost:8080/"
        },
        "id": "IqBazhPrdUWB",
        "outputId": "21ff5166-5306-4613-e810-2838cd54f679"
      },
      "execution_count": null,
      "outputs": [
        {
          "output_type": "stream",
          "name": "stdout",
          "text": [
            "Month coeff -> 1.0197648697786972\n",
            "Temperature coeff -> 2.0947593916579477\n",
            "IceCreamSales coeff -> 1.370242352411102\n"
          ]
        }
      ]
    },
    {
      "cell_type": "code",
      "source": [
        "y_pred = shark_model.predict(X_test)\n",
        "mse = mean_squared_error(y_test, y_pred)\n",
        "print(f\"MSE: {mse}, RMSE per feature: {np.sqrt(mse)/3}\")"
      ],
      "metadata": {
        "colab": {
          "base_uri": "https://localhost:8080/"
        },
        "id": "g8aBRP1VdWhW",
        "outputId": "30c34202-aa3f-4f24-a429-00d537def43e"
      },
      "execution_count": null,
      "outputs": [
        {
          "output_type": "stream",
          "name": "stdout",
          "text": [
            "MSE: 1088.6511458835064, RMSE per feature: 10.998237969397676\n"
          ]
        }
      ]
    },
    {
      "cell_type": "markdown",
      "source": [
        "The RMSE  has remained the same almost. but the ice cream sales coefficient has gone up slightly. The temperature coefficient still seems to matter the most, which makes sense (atleast intuitively)\n",
        "\n",
        "**Note**: I have not used L1/L2 regularization as most of the coefficients here hold almost similliar weightage, some may be very negligible but at max theres 4 features anyway."
      ],
      "metadata": {
        "id": "kgOsuwYEdaWo"
      }
    },
    {
      "cell_type": "code",
      "source": [],
      "metadata": {
        "id": "LZDm4H_qdYUW"
      },
      "execution_count": null,
      "outputs": []
    }
  ],
  "metadata": {
    "colab": {
      "provenance": []
    },
    "kernelspec": {
      "display_name": "Python 3 (ipykernel)",
      "language": "python",
      "name": "python3"
    },
    "language_info": {
      "codemirror_mode": {
        "name": "ipython",
        "version": 3
      },
      "file_extension": ".py",
      "mimetype": "text/x-python",
      "name": "python",
      "nbconvert_exporter": "python",
      "pygments_lexer": "ipython3",
      "version": "3.7.6"
    }
  },
  "nbformat": 4,
  "nbformat_minor": 0
}