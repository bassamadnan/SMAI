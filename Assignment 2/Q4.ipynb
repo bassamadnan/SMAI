{
  "cells": [
    {
      "cell_type": "markdown",
      "metadata": {
        "id": "lvpf93Fv9Hlk"
      },
      "source": [
        "# SMAI Assignment - 2\n",
        "\n",
        "## Question 4: Multi-layer Perceptrons\n",
        "\n",
        "### Digit Classification\n",
        "\n",
        "In this question, you will perform digit classification using MLP. You can use the MLPClassifier from sklearn. Train and two test sets have been provided [here](https://drive.google.com/drive/folders/1OUVrOMp2jSSBDJSqvEyXDFTrhiyZnqit?usp=sharing). Report the accuracy and any other interesting observations."
      ]
    },
    {
      "cell_type": "code",
      "source": [
        "from google.colab import drive\n",
        "drive.mount('/content/drive')"
      ],
      "metadata": {
        "colab": {
          "base_uri": "https://localhost:8080/"
        },
        "id": "C-3Mf74aMLc2",
        "outputId": "1ccffe57-504b-40ad-89d0-a2643677494c"
      },
      "execution_count": 1,
      "outputs": [
        {
          "output_type": "stream",
          "name": "stdout",
          "text": [
            "Mounted at /content/drive\n"
          ]
        }
      ]
    },
    {
      "cell_type": "code",
      "source": [
        "%cd drive/MyDrive"
      ],
      "metadata": {
        "colab": {
          "base_uri": "https://localhost:8080/"
        },
        "id": "QbcjmyluMTNU",
        "outputId": "8ec47b93-2a86-4e32-e829-1d8f45388ad2"
      },
      "execution_count": 2,
      "outputs": [
        {
          "output_type": "stream",
          "name": "stdout",
          "text": [
            "/content/drive/MyDrive\n"
          ]
        }
      ]
    },
    {
      "cell_type": "code",
      "execution_count": 3,
      "metadata": {
        "id": "G-MpagLl-YJp"
      },
      "outputs": [],
      "source": [
        "import numpy as np\n",
        "import h5py\n",
        "import matplotlib.pyplot as plt\n"
      ]
    },
    {
      "cell_type": "code",
      "execution_count": 4,
      "metadata": {
        "id": "cHAbz92352gz"
      },
      "outputs": [],
      "source": [
        "filename = \"training_3digits.hdf5\"\n",
        "train = h5py.File(filename,'r')\n",
        "train_images = np.array(train['images'])\n",
        "train_digits = np.array(train['digits'])\n",
        "train.close()"
      ]
    },
    {
      "cell_type": "code",
      "execution_count": 5,
      "metadata": {
        "id": "5MLBdrs65woF"
      },
      "outputs": [],
      "source": [
        "filename = \"testing_3digits_part1.hdf5\"\n",
        "test1 = h5py.File(filename,'r')\n",
        "test_images_1 = np.array(test1['images'])\n",
        "test_digits_1 = np.array(test1['digits'])\n",
        "test1.close()"
      ]
    },
    {
      "cell_type": "code",
      "execution_count": 6,
      "metadata": {
        "id": "w8cYRTiD-R1e"
      },
      "outputs": [],
      "source": [
        "filename = \"testing_3digits_part2.hdf5\"\n",
        "test2 = h5py.File(filename,'r')\n",
        "test_images_2 = np.array(test2['images'])\n",
        "test_digits_2 = np.array(test2['digits'])\n",
        "test2.close()"
      ]
    },
    {
      "cell_type": "code",
      "source": [
        "train_images.shape, test_images_1.shape, test_images_2.shape"
      ],
      "metadata": {
        "colab": {
          "base_uri": "https://localhost:8080/"
        },
        "id": "JC5YCjgqLV8P",
        "outputId": "e87d6fe1-21ce-4733-e910-2fcf756306b0"
      },
      "execution_count": 7,
      "outputs": [
        {
          "output_type": "execute_result",
          "data": {
            "text/plain": [
              "((2726, 28, 28, 3), (3147, 28, 28, 3), (3147, 28, 28, 3))"
            ]
          },
          "metadata": {},
          "execution_count": 7
        }
      ]
    },
    {
      "cell_type": "code",
      "source": [
        "train_digits.shape, test_digits_1.shape, test_digits_2.shape"
      ],
      "metadata": {
        "colab": {
          "base_uri": "https://localhost:8080/"
        },
        "id": "dCVD8Z9UNJZO",
        "outputId": "2bfbd4f6-d74f-4507-9a31-52b3b5c84c21"
      },
      "execution_count": 8,
      "outputs": [
        {
          "output_type": "execute_result",
          "data": {
            "text/plain": [
              "((2726,), (3147,), (3147,))"
            ]
          },
          "metadata": {},
          "execution_count": 8
        }
      ]
    },
    {
      "cell_type": "code",
      "source": [
        "plt.figure(figsize=(10, 5))\n",
        "plt.subplot(1, 1, 1)\n",
        "plt.imshow(train_images[0], cmap='gray')\n",
        "plt.axis('off')\n",
        "plt.show()\n",
        "print(train_digits[0])"
      ],
      "metadata": {
        "colab": {
          "base_uri": "https://localhost:8080/",
          "height": 439
        },
        "id": "P7xEmLeRNQbA",
        "outputId": "0a9a3647-6d3a-4137-93be-5f07df50bc7c"
      },
      "execution_count": 9,
      "outputs": [
        {
          "output_type": "display_data",
          "data": {
            "text/plain": [
              "<Figure size 1000x500 with 1 Axes>"
            ],
            "image/png": "[encoded data removed]"
          },
          "metadata": {}
        },
        {
          "output_type": "stream",
          "name": "stdout",
          "text": [
            "2\n"
          ]
        }
      ]
    },
    {
      "cell_type": "code",
      "source": [
        "from sklearn.neural_network import MLPClassifier\n",
        "from sklearn.metrics import accuracy_score\n",
        "\n",
        "# Reshape and flatten the image arrays\n",
        "train_images_flat = train_images.reshape(train_images.shape[0], -1)\n",
        "test_images_1_flat = test_images_1.reshape(test_images_1.shape[0], -1)\n",
        "test_images_2_flat = test_images_2.reshape(test_images_2.shape[0], -1)\n",
        "\n",
        "train_images_flat = train_images_flat / 255.0\n",
        "test_images_1_flat = test_images_1_flat / 255.0\n",
        "test_images_2_flat = test_images_2_flat / 255.0\n",
        "\n",
        "mlp_classifier = MLPClassifier(hidden_layer_sizes=(100,), max_iter=1000)\n",
        "\n",
        "mlp_classifier.fit(train_images_flat, train_digits)\n",
        "\n",
        "test_predictions_1 = mlp_classifier.predict(test_images_1_flat)\n",
        "test_predictions_2 = mlp_classifier.predict(test_images_2_flat)\n",
        "\n",
        "accuracy_1 = accuracy_score(test_digits_1, test_predictions_1)\n",
        "accuracy_2 = accuracy_score(test_digits_2, test_predictions_2)\n",
        "\n",
        "print(\"Accuracy on test data (part 1):\", accuracy_1)\n",
        "print(\"Accuracy on test data (part 2):\", accuracy_2)\n"
      ],
      "metadata": {
        "colab": {
          "base_uri": "https://localhost:8080/"
        },
        "id": "-MzoJHaqOGB1",
        "outputId": "7f14cd57-a9ff-4916-b7f9-766b25cfb5a3"
      },
      "execution_count": 10,
      "outputs": [
        {
          "output_type": "stream",
          "name": "stdout",
          "text": [
            "Accuracy on test data (part 1): 1.0\n",
            "Accuracy on test data (part 2): 0.0\n"
          ]
        }
      ]
    },
    {
      "cell_type": "code",
      "source": [
        "prediction_1 = mlp_classifier.predict(test_images_1[0].reshape(1, -1))\n",
        "prediction_1\n"
      ],
      "metadata": {
        "colab": {
          "base_uri": "https://localhost:8080/"
        },
        "id": "70jUtpoFOlKA",
        "outputId": "449de353-56af-42e2-9950-2405e48d878b"
      },
      "execution_count": 11,
      "outputs": [
        {
          "output_type": "execute_result",
          "data": {
            "text/plain": [
              "array([2])"
            ]
          },
          "metadata": {},
          "execution_count": 11
        }
      ]
    },
    {
      "cell_type": "code",
      "source": [
        "plt.figure(figsize=(10, 5))\n",
        "plt.subplot(1, 1, 1)\n",
        "plt.imshow(test_images_1[0], cmap='gray')\n",
        "plt.axis('off')\n",
        "plt.show()\n",
        "print(test_digits_1[0])"
      ],
      "metadata": {
        "colab": {
          "base_uri": "https://localhost:8080/",
          "height": 439
        },
        "id": "Ab3S94tePZhk",
        "outputId": "93ce7349-5b9d-4d96-84f3-0c307a178a3e"
      },
      "execution_count": 12,
      "outputs": [
        {
          "output_type": "display_data",
          "data": {
            "text/plain": [
              "<Figure size 1000x500 with 1 Axes>"
            ],
            "image/png": "[encoded data removed]"
          },
          "metadata": {}
        },
        {
          "output_type": "stream",
          "name": "stdout",
          "text": [
            "2\n"
          ]
        }
      ]
    },
    {
      "cell_type": "code",
      "source": [
        "plt.figure(figsize=(10, 5))\n",
        "plt.subplot(1, 1, 1)\n",
        "plt.imshow(test_images_2[0], cmap='gray')\n",
        "plt.axis('off')\n",
        "plt.show()\n",
        "print(test_digits_2[0])"
      ],
      "metadata": {
        "colab": {
          "base_uri": "https://localhost:8080/",
          "height": 439
        },
        "id": "NhgjhrwvPuOM",
        "outputId": "bb09eb95-7ee2-43bb-e5c6-6b5f8d587f95"
      },
      "execution_count": 13,
      "outputs": [
        {
          "output_type": "display_data",
          "data": {
            "text/plain": [
              "<Figure size 1000x500 with 1 Axes>"
            ],
            "image/png": "[encoded data removed]"
          },
          "metadata": {}
        },
        {
          "output_type": "stream",
          "name": "stdout",
          "text": [
            "2\n"
          ]
        }
      ]
    },
    {
      "cell_type": "code",
      "source": [
        "def display_single_image_with_label(index, images, labels):\n",
        "    plt.figure(figsize=(10, 5))\n",
        "    plt.subplot(1, 2, 1)\n",
        "    plt.imshow(images[index], cmap='gray')\n",
        "    plt.title(f\"Image Label: {labels[index]}\")\n",
        "    plt.axis('off')\n",
        "\n",
        "    plt.subplot(1, 2, 2)\n",
        "    plt.imshow(images[index+1], cmap='gray')\n",
        "    plt.title(f\"Image Label: {labels[index+1]}\")\n",
        "    plt.axis('off')\n",
        "\n",
        "    plt.show()\n",
        "\n",
        "display_single_image_with_label(0, test_images_1, test_digits_1)\n",
        "display_single_image_with_label(0, test_images_2, test_digits_2)"
      ],
      "metadata": {
        "colab": {
          "base_uri": "https://localhost:8080/",
          "height": 805
        },
        "id": "W4LEFpOdP2V5",
        "outputId": "1fbe1280-0f17-4b2e-cbd0-d382e0996ff9"
      },
      "execution_count": 14,
      "outputs": [
        {
          "output_type": "display_data",
          "data": {
            "text/plain": [
              "<Figure size 1000x500 with 2 Axes>"
            ],
            "image/png": "[encoded data removed]"
          },
          "metadata": {}
        },
        {
          "output_type": "display_data",
          "data": {
            "text/plain": [
              "<Figure size 1000x500 with 2 Axes>"
            ],
            "image/png": "[encoded data removed]"
          },
          "metadata": {}
        }
      ]
    },
    {
      "cell_type": "code",
      "source": [
        "display_single_image_with_label(1738, test_images_1, test_digits_1)\n",
        "display_single_image_with_label(1738, test_images_2, test_digits_2)"
      ],
      "metadata": {
        "colab": {
          "base_uri": "https://localhost:8080/",
          "height": 805
        },
        "id": "adH9Hl7bQJSd",
        "outputId": "0ffcdfbc-596e-4a3a-e447-701910afea33"
      },
      "execution_count": 15,
      "outputs": [
        {
          "output_type": "display_data",
          "data": {
            "text/plain": [
              "<Figure size 1000x500 with 2 Axes>"
            ],
            "image/png": "[encoded data removed]"
          },
          "metadata": {}
        },
        {
          "output_type": "display_data",
          "data": {
            "text/plain": [
              "<Figure size 1000x500 with 2 Axes>"
            ],
            "image/png": "[encoded data removed]"
          },
          "metadata": {}
        }
      ]
    },
    {
      "cell_type": "code",
      "source": [
        "display_single_image_with_label(0, train_images, train_digits)\n",
        "display_single_image_with_label(1738, train_images, train_digits)"
      ],
      "metadata": {
        "id": "_codzufuQSX9",
        "colab": {
          "base_uri": "https://localhost:8080/",
          "height": 805
        },
        "outputId": "54415126-70dc-43eb-a468-1c24ca35b8de"
      },
      "execution_count": 18,
      "outputs": [
        {
          "output_type": "display_data",
          "data": {
            "text/plain": [
              "<Figure size 1000x500 with 2 Axes>"
            ],
            "image/png": "[encoded data removed]"
          },
          "metadata": {}
        },
        {
          "output_type": "display_data",
          "data": {
            "text/plain": [
              "<Figure size 1000x500 with 2 Axes>"
            ],
            "image/png": "[encoded data removed]"
          },
          "metadata": {}
        }
      ]
    },
    {
      "cell_type": "code",
      "source": [
        "display_single_image_with_label(2, train_images, train_digits)"
      ],
      "metadata": {
        "colab": {
          "base_uri": "https://localhost:8080/",
          "height": 411
        },
        "id": "iJ8BgF_WFplY",
        "outputId": "c028f486-bdfb-42dc-f533-0ec6f2bb3456"
      },
      "execution_count": 19,
      "outputs": [
        {
          "output_type": "display_data",
          "data": {
            "text/plain": [
              "<Figure size 1000x500 with 2 Axes>"
            ],
            "image/png": "[encoded data removed]"
          },
          "metadata": {}
        }
      ]
    },
    {
      "cell_type": "code",
      "source": [
        "display_single_image_with_label(2430, train_images, train_digits)"
      ],
      "metadata": {
        "colab": {
          "base_uri": "https://localhost:8080/",
          "height": 411
        },
        "id": "XiaghjGEGf9R",
        "outputId": "3ac15712-bbf7-405f-aa53-a74ceca0cb90"
      },
      "execution_count": 28,
      "outputs": [
        {
          "output_type": "display_data",
          "data": {
            "text/plain": [
              "<Figure size 1000x500 with 2 Axes>"
            ],
            "image/png": "[encoded data removed]"
          },
          "metadata": {}
        }
      ]
    },
    {
      "cell_type": "code",
      "source": [
        "prediction_1 = mlp_classifier.predict(test_images_2[0].reshape(1, -1))\n",
        "prediction_1\n"
      ],
      "metadata": {
        "colab": {
          "base_uri": "https://localhost:8080/"
        },
        "id": "OM5bt1TUHxNw",
        "outputId": "92c4c1fe-46cd-46ec-a343-3f86e9f83de4"
      },
      "execution_count": 29,
      "outputs": [
        {
          "output_type": "execute_result",
          "data": {
            "text/plain": [
              "array([0])"
            ]
          },
          "metadata": {},
          "execution_count": 29
        }
      ]
    },
    {
      "cell_type": "markdown",
      "source": [
        "## Observations\n",
        "\n",
        "- We see that the training accuracy for the first train dataset is 100% while the second dataset is 0%\n",
        "\n",
        "- Upon examining the dataset we find out that the reason behind this is that the model learns the numbers based on the colors it sees.\n",
        "- The number 2 is colored in red, blue is 0 and yellow is number 1 in the training dataset.\n",
        "- Due to this, in the above cell when we try to Predict the 0'th image in the test_images_2 dataset , we get a prediction of 0. This is because that image is basically blue color background and white color number (2) . But the model sees the blue color in the background and predicts 2.\n",
        "\n",
        "- This implies that the model just decided to see the color and learn the output, if it sees the color red, it iwll output 2 if it sees the color yellow it will output 1 and for blue it outputs 0.\n",
        "\n",
        "- This is why the accuracy is 100% in first dataset becaues the colors are the same as the ones we trained the model on\n",
        "\n",
        "- Above is also the reason why accuracy is 0 on the second dataset because the colors are detected in from the background instead of the digit itself.\n",
        "\n",
        "- It is basically happening because of the difference between the domain knowledge and the classification of the digit."
      ],
      "metadata": {
        "id": "Hqkg0sJFF-io"
      }
    },
    {
      "cell_type": "code",
      "source": [],
      "metadata": {
        "id": "6c0NljyJHwRE"
      },
      "execution_count": null,
      "outputs": []
    }
  ],
  "metadata": {
    "colab": {
      "provenance": []
    },
    "kernelspec": {
      "display_name": "Python 3",
      "name": "python3"
    },
    "language_info": {
      "name": "python"
    }
  },
  "nbformat": 4,
  "nbformat_minor": 0
}