{
  "cells": [
    {
      "cell_type": "markdown",
      "metadata": {
        "id": "blv6XBI5GxO9"
      },
      "source": [
        "# SMAI Assignment - 2\n",
        "\n",
        "## Question 1: Naive Bayes and Clustering\n",
        "\n",
        "### Part 1: Naive Bayes\n",
        "\n",
        "[Files](https://drive.google.com/drive/folders/1OUVrOMp2jSSBDJSqvEyXDFTrhiyZnqit?usp=sharing)\n",
        "\n",
        "You will be performing Sentiment Analysis on a product review dataset with reviews from customers and star rating belonging to four classes (1,2,4,5). You can use sklearn for this question. Your tasks are as follows:\n",
        "\n",
        "1.   Clean the text by removing punctations and preprocess them using techniques such as stop word removal, stemming etc. You can explore anything!\n",
        "1.  Create BoW features using the word counts. You can choose the words that form the features such that the performance is optimised. Use the train-test split provided in `train_test_index.pickle` and report any interesting observations based on metrics such as accurarcy, precision, recall and f1 score (You can use Classification report in sklearn).\n",
        "1. Repeat Task 2 with TfIdf features."
      ]
    },
    {
      "cell_type": "code",
      "source": [
        "import pickle\n",
        "import string\n",
        "import nltk\n",
        "nltk.download('punkt')\n",
        "nltk.download('stopwords')\n",
        "from nltk.corpus import stopwords\n",
        "from nltk.tokenize import word_tokenize\n",
        "from nltk.stem import PorterStemmer\n",
        "from sklearn.cluster import KMeans\n"
      ],
      "metadata": {
        "colab": {
          "base_uri": "https://localhost:8080/"
        },
        "id": "_dge0j7ARzop",
        "outputId": "a8f5bf1c-2cfa-4205-bed9-0183362524b6"
      },
      "execution_count": 1,
      "outputs": [
        {
          "output_type": "stream",
          "name": "stderr",
          "text": [
            "[nltk_data] Downloading package punkt to /root/nltk_data...\n",
            "[nltk_data]   Package punkt is already up-to-date!\n",
            "[nltk_data] Downloading package stopwords to /root/nltk_data...\n",
            "[nltk_data]   Package stopwords is already up-to-date!\n"
          ]
        }
      ]
    },
    {
      "cell_type": "code",
      "source": [
        "from google.colab import drive\n",
        "drive.mount('/content/drive')"
      ],
      "metadata": {
        "colab": {
          "base_uri": "https://localhost:8080/"
        },
        "id": "LG5lue2XQ1Br",
        "outputId": "b4d1eb00-21ba-49cf-f2fc-194b67e5d973"
      },
      "execution_count": 2,
      "outputs": [
        {
          "output_type": "stream",
          "name": "stdout",
          "text": [
            "Drive already mounted at /content/drive; to attempt to forcibly remount, call drive.mount(\"/content/drive\", force_remount=True).\n"
          ]
        }
      ]
    },
    {
      "cell_type": "code",
      "source": [
        "%cd /content/drive/MyDrive"
      ],
      "metadata": {
        "colab": {
          "base_uri": "https://localhost:8080/"
        },
        "id": "ashOAWu1Q2L_",
        "outputId": "8e86c4a5-f3a1-44e7-aa65-9f879fdeb450"
      },
      "execution_count": 3,
      "outputs": [
        {
          "output_type": "stream",
          "name": "stdout",
          "text": [
            "/content/drive/MyDrive\n"
          ]
        }
      ]
    },
    {
      "cell_type": "code",
      "execution_count": 4,
      "metadata": {
        "id": "U0nNsliRUjqd"
      },
      "outputs": [],
      "source": [
        "with open('train_test_index.pickle', 'rb') as handle:\n",
        "    train_test_index_dict = pickle.load(handle)"
      ]
    },
    {
      "cell_type": "code",
      "execution_count": 5,
      "metadata": {
        "id": "86GXlinlUz8b",
        "colab": {
          "base_uri": "https://localhost:8080/",
          "height": 206
        },
        "outputId": "48db9458-906b-44d7-94f8-add31d8933c1"
      },
      "outputs": [
        {
          "output_type": "execute_result",
          "data": {
            "text/plain": [
              "                                                text  stars  sentiment\n",
              "0  Total bill for this horrible service? Over $8G...    1.0          0\n",
              "1  Went in for a lunch. Steak sandwich was delici...    5.0          1\n",
              "2  This place has gone down hill.  Clearly they h...    1.0          0\n",
              "3  Walked in around 4 on a Friday afternoon, we s...    1.0          0\n",
              "4  Michael from Red Carpet VIP is amazing ! I rea...    4.0          1"
            ],
            "text/html": [
              "\n",
              "  <div id=\"df-74fb3a52-4841-46e5-9f4f-aa3e04f52a67\" class=\"colab-df-container\">\n",
              "    <div>\n",
              "<style scoped>\n",
              "    .dataframe tbody tr th:only-of-type {\n",
              "        vertical-align: middle;\n",
              "    }\n",
              "\n",
              "    .dataframe tbody tr th {\n",
              "        vertical-align: top;\n",
              "    }\n",
              "\n",
              "    .dataframe thead th {\n",
              "        text-align: right;\n",
              "    }\n",
              "</style>\n",
              "<table border=\"1\" class=\"dataframe\">\n",
              "  <thead>\n",
              "    <tr style=\"text-align: right;\">\n",
              "      <th></th>\n",
              "      <th>text</th>\n",
              "      <th>stars</th>\n",
              "      <th>sentiment</th>\n",
              "    </tr>\n",
              "  </thead>\n",
              "  <tbody>\n",
              "    <tr>\n",
              "      <th>0</th>\n",
              "      <td>Total bill for this horrible service? Over $8G...</td>\n",
              "      <td>1.0</td>\n",
              "      <td>0</td>\n",
              "    </tr>\n",
              "    <tr>\n",
              "      <th>1</th>\n",
              "      <td>Went in for a lunch. Steak sandwich was delici...</td>\n",
              "      <td>5.0</td>\n",
              "      <td>1</td>\n",
              "    </tr>\n",
              "    <tr>\n",
              "      <th>2</th>\n",
              "      <td>This place has gone down hill.  Clearly they h...</td>\n",
              "      <td>1.0</td>\n",
              "      <td>0</td>\n",
              "    </tr>\n",
              "    <tr>\n",
              "      <th>3</th>\n",
              "      <td>Walked in around 4 on a Friday afternoon, we s...</td>\n",
              "      <td>1.0</td>\n",
              "      <td>0</td>\n",
              "    </tr>\n",
              "    <tr>\n",
              "      <th>4</th>\n",
              "      <td>Michael from Red Carpet VIP is amazing ! I rea...</td>\n",
              "      <td>4.0</td>\n",
              "      <td>1</td>\n",
              "    </tr>\n",
              "  </tbody>\n",
              "</table>\n",
              "</div>\n",
              "    <div class=\"colab-df-buttons\">\n",
              "\n",
              "  <div class=\"colab-df-container\">\n",
              "    <button class=\"colab-df-convert\" onclick=\"convertToInteractive('df-74fb3a52-4841-46e5-9f4f-aa3e04f52a67')\"\n",
              "            title=\"Convert this dataframe to an interactive table.\"\n",
              "            style=\"display:none;\">\n",
              "\n",
              "  <svg xmlns=\"http://www.w3.org/2000/svg\" height=\"24px\" viewBox=\"0 -960 960 960\">\n",
              "    <path d=\"M120-120v-720h720v720H120Zm60-500h600v-160H180v160Zm220 220h160v-160H400v160Zm0 220h160v-160H400v160ZM180-400h160v-160H180v160Zm440 0h160v-160H620v160ZM180-180h160v-160H180v160Zm440 0h160v-160H620v160Z\"/>\n",
              "  </svg>\n",
              "    </button>\n",
              "\n",
              "  <style>\n",
              "    .colab-df-container {\n",
              "      display:flex;\n",
              "      gap: 12px;\n",
              "    }\n",
              "\n",
              "    .colab-df-convert {\n",
              "      background-color: #E8F0FE;\n",
              "      border: none;\n",
              "      border-radius: 50%;\n",
              "      cursor: pointer;\n",
              "      display: none;\n",
              "      fill: #1967D2;\n",
              "      height: 32px;\n",
              "      padding: 0 0 0 0;\n",
              "      width: 32px;\n",
              "    }\n",
              "\n",
              "    .colab-df-convert:hover {\n",
              "      background-color: #E2EBFA;\n",
              "      box-shadow: 0px 1px 2px rgba(60, 64, 67, 0.3), 0px 1px 3px 1px rgba(60, 64, 67, 0.15);\n",
              "      fill: #174EA6;\n",
              "    }\n",
              "\n",
              "    .colab-df-buttons div {\n",
              "      margin-bottom: 4px;\n",
              "    }\n",
              "\n",
              "    [theme=dark] .colab-df-convert {\n",
              "      background-color: #3B4455;\n",
              "      fill: #D2E3FC;\n",
              "    }\n",
              "\n",
              "    [theme=dark] .colab-df-convert:hover {\n",
              "      background-color: #434B5C;\n",
              "      box-shadow: 0px 1px 3px 1px rgba(0, 0, 0, 0.15);\n",
              "      filter: drop-shadow(0px 1px 2px rgba(0, 0, 0, 0.3));\n",
              "      fill: #FFFFFF;\n",
              "    }\n",
              "  </style>\n",
              "\n",
              "    <script>\n",
              "      const buttonEl =\n",
              "        document.querySelector('#df-74fb3a52-4841-46e5-9f4f-aa3e04f52a67 button.colab-df-convert');\n",
              "      buttonEl.style.display =\n",
              "        google.colab.kernel.accessAllowed ? 'block' : 'none';\n",
              "\n",
              "      async function convertToInteractive(key) {\n",
              "        const element = document.querySelector('#df-74fb3a52-4841-46e5-9f4f-aa3e04f52a67');\n",
              "        const dataTable =\n",
              "          await google.colab.kernel.invokeFunction('convertToInteractive',\n",
              "                                                    [key], {});\n",
              "        if (!dataTable) return;\n",
              "\n",
              "        const docLinkHtml = 'Like what you see? Visit the ' +\n",
              "          '<a target=\"_blank\" href=https://colab.research.google.com/notebooks/data_table.ipynb>data table notebook</a>'\n",
              "          + ' to learn more about interactive tables.';\n",
              "        element.innerHTML = '';\n",
              "        dataTable['output_type'] = 'display_data';\n",
              "        await google.colab.output.renderOutput(dataTable, element);\n",
              "        const docLink = document.createElement('div');\n",
              "        docLink.innerHTML = docLinkHtml;\n",
              "        element.appendChild(docLink);\n",
              "      }\n",
              "    </script>\n",
              "  </div>\n",
              "\n",
              "\n",
              "<div id=\"df-5c53f33f-7236-42df-a4c3-d2a6ceab3d13\">\n",
              "  <button class=\"colab-df-quickchart\" onclick=\"quickchart('df-5c53f33f-7236-42df-a4c3-d2a6ceab3d13')\"\n",
              "            title=\"Suggest charts\"\n",
              "            style=\"display:none;\">\n",
              "\n",
              "<svg xmlns=\"http://www.w3.org/2000/svg\" height=\"24px\"viewBox=\"0 0 24 24\"\n",
              "     width=\"24px\">\n",
              "    <g>\n",
              "        <path d=\"M19 3H5c-1.1 0-2 .9-2 2v14c0 1.1.9 2 2 2h14c1.1 0 2-.9 2-2V5c0-1.1-.9-2-2-2zM9 17H7v-7h2v7zm4 0h-2V7h2v10zm4 0h-2v-4h2v4z\"/>\n",
              "    </g>\n",
              "</svg>\n",
              "  </button>\n",
              "\n",
              "<style>\n",
              "  .colab-df-quickchart {\n",
              "      --bg-color: #E8F0FE;\n",
              "      --fill-color: #1967D2;\n",
              "      --hover-bg-color: #E2EBFA;\n",
              "      --hover-fill-color: #174EA6;\n",
              "      --disabled-fill-color: #AAA;\n",
              "      --disabled-bg-color: #DDD;\n",
              "  }\n",
              "\n",
              "  [theme=dark] .colab-df-quickchart {\n",
              "      --bg-color: #3B4455;\n",
              "      --fill-color: #D2E3FC;\n",
              "      --hover-bg-color: #434B5C;\n",
              "      --hover-fill-color: #FFFFFF;\n",
              "      --disabled-bg-color: #3B4455;\n",
              "      --disabled-fill-color: #666;\n",
              "  }\n",
              "\n",
              "  .colab-df-quickchart {\n",
              "    background-color: var(--bg-color);\n",
              "    border: none;\n",
              "    border-radius: 50%;\n",
              "    cursor: pointer;\n",
              "    display: none;\n",
              "    fill: var(--fill-color);\n",
              "    height: 32px;\n",
              "    padding: 0;\n",
              "    width: 32px;\n",
              "  }\n",
              "\n",
              "  .colab-df-quickchart:hover {\n",
              "    background-color: var(--hover-bg-color);\n",
              "    box-shadow: 0 1px 2px rgba(60, 64, 67, 0.3), 0 1px 3px 1px rgba(60, 64, 67, 0.15);\n",
              "    fill: var(--button-hover-fill-color);\n",
              "  }\n",
              "\n",
              "  .colab-df-quickchart-complete:disabled,\n",
              "  .colab-df-quickchart-complete:disabled:hover {\n",
              "    background-color: var(--disabled-bg-color);\n",
              "    fill: var(--disabled-fill-color);\n",
              "    box-shadow: none;\n",
              "  }\n",
              "\n",
              "  .colab-df-spinner {\n",
              "    border: 2px solid var(--fill-color);\n",
              "    border-color: transparent;\n",
              "    border-bottom-color: var(--fill-color);\n",
              "    animation:\n",
              "      spin 1s steps(1) infinite;\n",
              "  }\n",
              "\n",
              "  @keyframes spin {\n",
              "    0% {\n",
              "      border-color: transparent;\n",
              "      border-bottom-color: var(--fill-color);\n",
              "      border-left-color: var(--fill-color);\n",
              "    }\n",
              "    20% {\n",
              "      border-color: transparent;\n",
              "      border-left-color: var(--fill-color);\n",
              "      border-top-color: var(--fill-color);\n",
              "    }\n",
              "    30% {\n",
              "      border-color: transparent;\n",
              "      border-left-color: var(--fill-color);\n",
              "      border-top-color: var(--fill-color);\n",
              "      border-right-color: var(--fill-color);\n",
              "    }\n",
              "    40% {\n",
              "      border-color: transparent;\n",
              "      border-right-color: var(--fill-color);\n",
              "      border-top-color: var(--fill-color);\n",
              "    }\n",
              "    60% {\n",
              "      border-color: transparent;\n",
              "      border-right-color: var(--fill-color);\n",
              "    }\n",
              "    80% {\n",
              "      border-color: transparent;\n",
              "      border-right-color: var(--fill-color);\n",
              "      border-bottom-color: var(--fill-color);\n",
              "    }\n",
              "    90% {\n",
              "      border-color: transparent;\n",
              "      border-bottom-color: var(--fill-color);\n",
              "    }\n",
              "  }\n",
              "</style>\n",
              "\n",
              "  <script>\n",
              "    async function quickchart(key) {\n",
              "      const quickchartButtonEl =\n",
              "        document.querySelector('#' + key + ' button');\n",
              "      quickchartButtonEl.disabled = true;  // To prevent multiple clicks.\n",
              "      quickchartButtonEl.classList.add('colab-df-spinner');\n",
              "      try {\n",
              "        const charts = await google.colab.kernel.invokeFunction(\n",
              "            'suggestCharts', [key], {});\n",
              "      } catch (error) {\n",
              "        console.error('Error during call to suggestCharts:', error);\n",
              "      }\n",
              "      quickchartButtonEl.classList.remove('colab-df-spinner');\n",
              "      quickchartButtonEl.classList.add('colab-df-quickchart-complete');\n",
              "    }\n",
              "    (() => {\n",
              "      let quickchartButtonEl =\n",
              "        document.querySelector('#df-5c53f33f-7236-42df-a4c3-d2a6ceab3d13 button');\n",
              "      quickchartButtonEl.style.display =\n",
              "        google.colab.kernel.accessAllowed ? 'block' : 'none';\n",
              "    })();\n",
              "  </script>\n",
              "</div>\n",
              "\n",
              "    </div>\n",
              "  </div>\n"
            ],
            "application/vnd.google.colaboratory.intrinsic+json": {
              "type": "dataframe",
              "variable_name": "data",
              "summary": "{\n  \"name\": \"data\",\n  \"rows\": 26661,\n  \"fields\": [\n    {\n      \"column\": \"text\",\n      \"properties\": {\n        \"dtype\": \"string\",\n        \"num_unique_values\": 26652,\n        \"samples\": [\n          \"this place is absolutely amazing. (good) italian vegan food is hard to find and this is the place to go. i had the veggie balls and the vegan baked ziti and added mushrooms. every bite was amazing. good for sharing bc the portions are HUGE. I've never been able to finish anything from here in one sitting.\",\n          \"Decent unassuming sports bar with good grub and good beer. Many TVs and a full bar. Service was as good as it gets. This place is owned by a nice young couple from Minnesota.\",\n          \"The best shop to be very nice clean auto shop very friendly and family owned and operated highly recommend for your car service needs at very honest prices clean work you guys are the best!!!!!!!!\"\n        ],\n        \"semantic_type\": \"\",\n        \"description\": \"\"\n      }\n    },\n    {\n      \"column\": \"stars\",\n      \"properties\": {\n        \"dtype\": \"number\",\n        \"std\": 1.420209841029186,\n        \"min\": 1.0,\n        \"max\": 5.0,\n        \"num_unique_values\": 4,\n        \"samples\": [\n          5.0,\n          2.0,\n          1.0\n        ],\n        \"semantic_type\": \"\",\n        \"description\": \"\"\n      }\n    },\n    {\n      \"column\": \"sentiment\",\n      \"properties\": {\n        \"dtype\": \"number\",\n        \"std\": 0,\n        \"min\": 0,\n        \"max\": 1,\n        \"num_unique_values\": 2,\n        \"samples\": [\n          1,\n          0\n        ],\n        \"semantic_type\": \"\",\n        \"description\": \"\"\n      }\n    }\n  ]\n}"
            }
          },
          "metadata": {},
          "execution_count": 5
        }
      ],
      "source": [
        "import pandas as pd\n",
        "\n",
        "data = pd.read_csv('product_reviews.csv')\n",
        "data.head()"
      ]
    },
    {
      "source": [
        "# @title sentiment\n",
        "\n",
        "from matplotlib import pyplot as plt\n",
        "data['sentiment'].plot(kind='hist', bins=20, title='sentiment')\n",
        "plt.gca().spines[['top', 'right',]].set_visible(False)"
      ],
      "cell_type": "code",
      "execution_count": 6,
      "outputs": [
        {
          "output_type": "display_data",
          "data": {
            "text/plain": [
              "<Figure size 640x480 with 1 Axes>"
            ],
            "image/png": "[encoded data removed]"
          },
          "metadata": {}
        }
      ],
      "metadata": {
        "cellView": "form",
        "colab": {
          "base_uri": "https://localhost:8080/",
          "height": 452
        },
        "id": "YeOXKQX-Vqnj",
        "outputId": "70af8dcc-f9a0-4df0-eefd-504c74566528"
      }
    },
    {
      "source": [
        "# @title stars\n",
        "\n",
        "from matplotlib import pyplot as plt\n",
        "data['stars'].plot(kind='hist', bins=20, title='stars')\n",
        "plt.gca().spines[['top', 'right',]].set_visible(False)"
      ],
      "cell_type": "code",
      "execution_count": 13,
      "outputs": [
        {
          "output_type": "display_data",
          "data": {
            "text/plain": [
              "<Figure size 640x480 with 1 Axes>"
            ],
            "image/png": "[encoded data removed]"
          },
          "metadata": {}
        }
      ],
      "metadata": {
        "colab": {
          "base_uri": "https://localhost:8080/",
          "height": 452
        },
        "id": "zuL71eZZVkdW",
        "outputId": "3180d16e-eb08-4f91-9049-dc35047d3f6d"
      }
    },
    {
      "cell_type": "code",
      "source": [
        "\n",
        "reviews = data['text']\n",
        "\n",
        "cleaned_reviews = [review.translate(str.maketrans('', '', string.punctuation)).lower() for review in reviews] # remove punctuations, convert to lowercase\n",
        "\n",
        "tokenized_reviews = [word_tokenize(review) for review in cleaned_reviews] # tokenize\n",
        "\n",
        "stop_words = set(stopwords.words('english'))\n",
        "filtered_reviews = [[word for word in review if word not in stop_words] for review in tokenized_reviews] # for stop words\n",
        "\n",
        "porter = PorterStemmer()\n",
        "stemmed_reviews = [[porter.stem(word) for word in review] for review in filtered_reviews] # stemming\n",
        "\n",
        "print(reviews[0], stemmed_reviews[0])"
      ],
      "metadata": {
        "colab": {
          "base_uri": "https://localhost:8080/"
        },
        "id": "czObtsmpYhYx",
        "outputId": "e2c1ffc7-8b65-47d1-d7fd-dbd2681821e2"
      },
      "execution_count": 14,
      "outputs": [
        {
          "output_type": "stream",
          "name": "stdout",
          "text": [
            "Total bill for this horrible service? Over $8Gs. These crooks actually had the nerve to charge us $69 for 3 pills. I checked online the pills can be had for 19 cents EACH! Avoid Hospital ERs at all costs. ['total', 'bill', 'horribl', 'servic', '8g', 'crook', 'actual', 'nerv', 'charg', 'us', '69', '3', 'pill', 'check', 'onlin', 'pill', '19', 'cent', 'avoid', 'hospit', 'er', 'cost']\n"
          ]
        }
      ]
    },
    {
      "cell_type": "code",
      "source": [
        "stemmed_reviews = [' '.join(x) for x in stemmed_reviews]\n",
        "stemmed_reviews[0]"
      ],
      "metadata": {
        "colab": {
          "base_uri": "https://localhost:8080/",
          "height": 36
        },
        "id": "2X395yQVazLQ",
        "outputId": "1320fcca-6e67-4d62-b668-229399acd4f4"
      },
      "execution_count": 15,
      "outputs": [
        {
          "output_type": "execute_result",
          "data": {
            "text/plain": [
              "'total bill horribl servic 8g crook actual nerv charg us 69 3 pill check onlin pill 19 cent avoid hospit er cost'"
            ],
            "application/vnd.google.colaboratory.intrinsic+json": {
              "type": "string"
            }
          },
          "metadata": {},
          "execution_count": 15
        }
      ]
    },
    {
      "cell_type": "code",
      "source": [
        "X = stemmed_reviews\n",
        "y = data['stars']\n",
        "\n",
        "train_index = train_test_index_dict['train_index']\n",
        "test_index = train_test_index_dict['test_index']\n",
        "X_train = [X[i] for i in train_index]\n",
        "X_test = [X[i] for i in test_index]\n",
        "y_train = y[train_index]\n",
        "y_test = y[test_index]"
      ],
      "metadata": {
        "id": "MN5wz43udouB"
      },
      "execution_count": 16,
      "outputs": []
    },
    {
      "cell_type": "code",
      "source": [
        "X_train[0], y_train[0],  reviews[train_index[0]]"
      ],
      "metadata": {
        "colab": {
          "base_uri": "https://localhost:8080/"
        },
        "id": "pLaXEH9BehNB",
        "outputId": "7c5b40b6-4396-4e8a-9cef-4094f0006e4c"
      },
      "execution_count": 17,
      "outputs": [
        {
          "output_type": "execute_result",
          "data": {
            "text/plain": [
              "('twice time staff super friendli help pina colada smoothi absolut delici look forward tri item menu',\n",
              " 1.0,\n",
              " 'I have been here twice.  Both times the staff was super friendly and helpful!  The pina colada smoothie is absolutely delicious!!! Looking forward to trying other items on the menu.')"
            ]
          },
          "metadata": {},
          "execution_count": 17
        }
      ]
    },
    {
      "cell_type": "code",
      "source": [
        "from sklearn.feature_extraction.text import CountVectorizer\n",
        "from sklearn.naive_bayes import MultinomialNB\n",
        "from sklearn.metrics import classification_report, accuracy_score\n",
        "from sklearn.feature_extraction.text import TfidfVectorizer"
      ],
      "metadata": {
        "id": "_XHBbNt5gSuF"
      },
      "execution_count": null,
      "outputs": []
    },
    {
      "cell_type": "code",
      "source": [
        "count_vectorizer = CountVectorizer()\n",
        "X_train_bow = count_vectorizer.fit_transform(X_train)\n",
        "X_test_bow = count_vectorizer.transform(X_test)\n",
        "\n",
        "multinomial_classifier = MultinomialNB()\n",
        "multinomial_classifier.fit(X_train_bow, y_train)\n",
        "\n",
        "y_pred = multinomial_classifier.predict(X_test_bow)\n",
        "print(classification_report(y_test, y_pred))"
      ],
      "metadata": {
        "colab": {
          "base_uri": "https://localhost:8080/"
        },
        "id": "kk81Lp9be944",
        "outputId": "1846a6fa-c25f-4833-abc7-0646fc782212"
      },
      "execution_count": null,
      "outputs": [
        {
          "output_type": "stream",
          "name": "stdout",
          "text": [
            "              precision    recall  f1-score   support\n",
            "\n",
            "         1.0       0.73      0.75      0.74      1149\n",
            "         2.0       0.46      0.09      0.15       587\n",
            "         4.0       0.48      0.49      0.49      1981\n",
            "         5.0       0.79      0.85      0.81      5082\n",
            "\n",
            "    accuracy                           0.70      8799\n",
            "   macro avg       0.61      0.55      0.55      8799\n",
            "weighted avg       0.69      0.70      0.69      8799\n",
            "\n"
          ]
        }
      ]
    },
    {
      "cell_type": "code",
      "source": [
        "print(X_test_bow[0]), print(X_test[0])"
      ],
      "metadata": {
        "colab": {
          "base_uri": "https://localhost:8080/"
        },
        "id": "iTHyXnkRSguV",
        "outputId": "582bc21a-c811-492d-ffcd-41da51a59a90"
      },
      "execution_count": null,
      "outputs": [
        {
          "output_type": "stream",
          "name": "stdout",
          "text": [
            "  (0, 1892)\t1\n",
            "  (0, 2918)\t1\n",
            "  (0, 5806)\t1\n",
            "  (0, 7754)\t1\n",
            "  (0, 8088)\t1\n",
            "  (0, 8707)\t1\n",
            "  (0, 13701)\t2\n",
            "  (0, 13900)\t1\n",
            "  (0, 14709)\t1\n",
            "  (0, 15777)\t1\n",
            "  (0, 15900)\t1\n",
            "  (0, 19260)\t1\n",
            "awesom place brekki great servic downsid wait get seat place popular highli recommend\n"
          ]
        },
        {
          "output_type": "execute_result",
          "data": {
            "text/plain": [
              "(None, None)"
            ]
          },
          "metadata": {},
          "execution_count": 72
        }
      ]
    },
    {
      "cell_type": "code",
      "source": [
        "word_at_index_13701 = list(count_vectorizer.vocabulary_.keys())[list(count_vectorizer.vocabulary_.values()).index(13701)]\n",
        "print(\"Word at index 13701:\", word_at_index_13701)"
      ],
      "metadata": {
        "colab": {
          "base_uri": "https://localhost:8080/"
        },
        "id": "7VejLxeQTc4Z",
        "outputId": "1bc5112e-334b-486a-96aa-b72420398605"
      },
      "execution_count": null,
      "outputs": [
        {
          "output_type": "stream",
          "name": "stdout",
          "text": [
            "Word at index 13701: place\n"
          ]
        }
      ]
    },
    {
      "cell_type": "code",
      "source": [
        "multinomial_classifier.predict(X_test_bow[0])"
      ],
      "metadata": {
        "colab": {
          "base_uri": "https://localhost:8080/"
        },
        "id": "0f3UpxEiUQjn",
        "outputId": "2fae22d8-d6ca-41b3-d30e-7d886092bf3d"
      },
      "execution_count": null,
      "outputs": [
        {
          "output_type": "execute_result",
          "data": {
            "text/plain": [
              "array([5.])"
            ]
          },
          "metadata": {},
          "execution_count": 42
        }
      ]
    },
    {
      "cell_type": "code",
      "source": [
        "print(X_test[77])"
      ],
      "metadata": {
        "colab": {
          "base_uri": "https://localhost:8080/"
        },
        "id": "Jg-Qo8lwUh23",
        "outputId": "cf75884c-522d-436c-c7de-3f66d62cad3b"
      },
      "execution_count": null,
      "outputs": [
        {
          "output_type": "stream",
          "name": "stdout",
          "text": [
            "compani absolut horribl complet crook tell 39 fee come show ask 39 spot put ball valv outsid hous made seem would take hour two 10 minut later done charg 195 compani said day servic highli train technician total bullshit never ever ever use compani\n"
          ]
        }
      ]
    },
    {
      "cell_type": "code",
      "source": [
        "multinomial_classifier.predict(X_test_bow[77])"
      ],
      "metadata": {
        "colab": {
          "base_uri": "https://localhost:8080/"
        },
        "id": "8T7Mgc_JUuqS",
        "outputId": "873e261f-d12c-4781-ca40-73ddb319e9c9"
      },
      "execution_count": null,
      "outputs": [
        {
          "output_type": "execute_result",
          "data": {
            "text/plain": [
              "array([1.])"
            ]
          },
          "metadata": {},
          "execution_count": 48
        }
      ]
    },
    {
      "cell_type": "code",
      "source": [
        "y_test.shape, y_pred.shape"
      ],
      "metadata": {
        "colab": {
          "base_uri": "https://localhost:8080/"
        },
        "id": "wOBEEhGAgXpO",
        "outputId": "d8759607-5b04-4c93-e100-8132dd4a6f23"
      },
      "execution_count": null,
      "outputs": [
        {
          "output_type": "execute_result",
          "data": {
            "text/plain": [
              "((8799,), (8799,))"
            ]
          },
          "metadata": {},
          "execution_count": 30
        }
      ]
    },
    {
      "cell_type": "code",
      "source": [
        "vectorizer = TfidfVectorizer()\n",
        "X_train_tfidf = vectorizer.fit_transform(X_train)\n",
        "X_test_tfidf = vectorizer.transform(X_test)\n",
        "\n",
        "classifier = MultinomialNB()\n",
        "classifier.fit(X_train_tfidf, y_train)\n",
        "\n",
        "y_pred_2 = classifier.predict(X_test_tfidf)\n",
        "print(classification_report(y_test, y_pred_2))"
      ],
      "metadata": {
        "colab": {
          "base_uri": "https://localhost:8080/"
        },
        "id": "qLbU9Jn-htwF",
        "outputId": "663de3cd-45be-4d8d-8468-88d6a98e6cf3"
      },
      "execution_count": null,
      "outputs": [
        {
          "output_type": "stream",
          "name": "stdout",
          "text": [
            "              precision    recall  f1-score   support\n",
            "\n",
            "         1.0       0.92      0.11      0.20      1149\n",
            "         2.0       0.00      0.00      0.00       587\n",
            "         4.0       0.52      0.01      0.02      1981\n",
            "         5.0       0.59      1.00      0.74      5082\n",
            "\n",
            "    accuracy                           0.59      8799\n",
            "   macro avg       0.51      0.28      0.24      8799\n",
            "weighted avg       0.58      0.59      0.46      8799\n",
            "\n"
          ]
        },
        {
          "output_type": "stream",
          "name": "stderr",
          "text": [
            "/usr/local/lib/python3.10/dist-packages/sklearn/metrics/_classification.py:1344: UndefinedMetricWarning: Precision and F-score are ill-defined and being set to 0.0 in labels with no predicted samples. Use `zero_division` parameter to control this behavior.\n",
            "  _warn_prf(average, modifier, msg_start, len(result))\n",
            "/usr/local/lib/python3.10/dist-packages/sklearn/metrics/_classification.py:1344: UndefinedMetricWarning: Precision and F-score are ill-defined and being set to 0.0 in labels with no predicted samples. Use `zero_division` parameter to control this behavior.\n",
            "  _warn_prf(average, modifier, msg_start, len(result))\n",
            "/usr/local/lib/python3.10/dist-packages/sklearn/metrics/_classification.py:1344: UndefinedMetricWarning: Precision and F-score are ill-defined and being set to 0.0 in labels with no predicted samples. Use `zero_division` parameter to control this behavior.\n",
            "  _warn_prf(average, modifier, msg_start, len(result))\n"
          ]
        }
      ]
    },
    {
      "cell_type": "code",
      "source": [
        "print(X_test_tfidf[0]), print(X_test[0])"
      ],
      "metadata": {
        "colab": {
          "base_uri": "https://localhost:8080/"
        },
        "id": "B0cdVp70U2tn",
        "outputId": "160bc26e-2ed0-4672-b292-921ec34d541c"
      },
      "execution_count": null,
      "outputs": [
        {
          "output_type": "stream",
          "name": "stdout",
          "text": [
            "  (0, 19260)\t0.20245496715894556\n",
            "  (0, 15900)\t0.13198289337608637\n",
            "  (0, 15777)\t0.26536747072081357\n",
            "  (0, 14709)\t0.1771929477934792\n",
            "  (0, 13900)\t0.38477224734671733\n",
            "  (0, 13701)\t0.25173097530429056\n",
            "  (0, 8707)\t0.22549834024428\n",
            "  (0, 8088)\t0.1225675426380129\n",
            "  (0, 7754)\t0.16150955890336413\n",
            "  (0, 5806)\t0.4098173495315867\n",
            "  (0, 2918)\t0.5696576299936187\n",
            "  (0, 1892)\t0.20961723126428153\n",
            "awesom place brekki great servic downsid wait get seat place popular highli recommend\n"
          ]
        },
        {
          "output_type": "execute_result",
          "data": {
            "text/plain": [
              "(None, None)"
            ]
          },
          "metadata": {},
          "execution_count": 51
        }
      ]
    },
    {
      "cell_type": "code",
      "source": [
        "classifier.predict(X_test_tfidf[0]), classifier.predict(X_test_tfidf[77])"
      ],
      "metadata": {
        "colab": {
          "base_uri": "https://localhost:8080/"
        },
        "id": "83whcpqKVFLM",
        "outputId": "4b16d502-de78-46b0-fd1a-632f59451172"
      },
      "execution_count": null,
      "outputs": [
        {
          "output_type": "execute_result",
          "data": {
            "text/plain": [
              "(array([5.]), array([5.]))"
            ]
          },
          "metadata": {},
          "execution_count": 53
        }
      ]
    },
    {
      "cell_type": "code",
      "source": [
        "classifier.predict(X_test_tfidf[1])"
      ],
      "metadata": {
        "colab": {
          "base_uri": "https://localhost:8080/"
        },
        "id": "XXRIwT0oVaLk",
        "outputId": "ec71e209-c5e3-478d-bce5-f5cb9790a6e7"
      },
      "execution_count": null,
      "outputs": [
        {
          "output_type": "execute_result",
          "data": {
            "text/plain": [
              "array([5.])"
            ]
          },
          "metadata": {},
          "execution_count": 75
        }
      ]
    },
    {
      "cell_type": "code",
      "source": [
        "X_test[77]"
      ],
      "metadata": {
        "colab": {
          "base_uri": "https://localhost:8080/",
          "height": 53
        },
        "id": "hZf-13g5VMqs",
        "outputId": "e3146a2b-7b21-4490-e943-2014f1c24320"
      },
      "execution_count": null,
      "outputs": [
        {
          "output_type": "execute_result",
          "data": {
            "text/plain": [
              "'compani absolut horribl complet crook tell 39 fee come show ask 39 spot put ball valv outsid hous made seem would take hour two 10 minut later done charg 195 compani said day servic highli train technician total bullshit never ever ever use compani'"
            ],
            "application/vnd.google.colaboratory.intrinsic+json": {
              "type": "string"
            }
          },
          "metadata": {},
          "execution_count": 54
        }
      ]
    },
    {
      "cell_type": "code",
      "source": [
        "y_test.value_counts()[5]/len(y_test)"
      ],
      "metadata": {
        "colab": {
          "base_uri": "https://localhost:8080/"
        },
        "id": "aialeloDytg5",
        "outputId": "edad1c2a-fa91-4deb-adbd-71717805dd5e"
      },
      "execution_count": null,
      "outputs": [
        {
          "output_type": "execute_result",
          "data": {
            "text/plain": [
              "0.5775656324582339"
            ]
          },
          "metadata": {},
          "execution_count": 87
        }
      ]
    },
    {
      "cell_type": "code",
      "source": [
        "accuracy_mnb = accuracy_score(y_test, y_pred)\n",
        "accuracy_tvf = accuracy_score(y_test, y_pred_2)"
      ],
      "metadata": {
        "id": "BsRwlxIDzLTq"
      },
      "execution_count": null,
      "outputs": []
    },
    {
      "cell_type": "code",
      "source": [
        "accuracy_mnb, accuracy_tvf"
      ],
      "metadata": {
        "id": "6rlgn_8jzuZh",
        "outputId": "026a6a9a-3857-4644-aced-3e70dca11245",
        "colab": {
          "base_uri": "https://localhost:8080/"
        }
      },
      "execution_count": null,
      "outputs": [
        {
          "output_type": "execute_result",
          "data": {
            "text/plain": [
              "(0.7036026821229685, 0.5933628821456983)"
            ]
          },
          "metadata": {},
          "execution_count": 89
        }
      ]
    },
    {
      "cell_type": "markdown",
      "metadata": {
        "id": "T8GYzpkuUcs6"
      },
      "source": [
        "### Part 2: Clustering\n",
        "\n",
        "You will be performing kmeans clustering on the same product reviews dataset from Part 1. In this question, instead of statistically computing features, you will use the embeddings obtained from a neural sentiment analysis model (huggingface: siebert/sentiment-roberta-large-english).\n",
        "\n",
        "You can use sklearn for this question. Your tasks are as follows:\n",
        "\n",
        "\n",
        "1. Perform kmeans clustering using sklearn. Try various values for number of clusters (k) and plot the elbow curve. For each value of k, plot WCSS (Within-Cluster Sum of Square). WCSS is the sum of the squared distance between each point and the centroid in a cluster.\n",
        "1. Perform task 1 with cluster initialisation methods [k-means++, forgy (\"random\" in sklearn)].\n",
        "1. In this case, since the ground truth labels (star rating) are available we can evaluate the clustering using metrics like purity, nmi and rand score. Implement these metrics from scratch and evaluate the clustering. [Reference](https://nlp.stanford.edu/IR-book/html/htmledition/evaluation-of-clustering-1.html)"
      ]
    },
    {
      "cell_type": "code",
      "execution_count": 8,
      "metadata": {
        "id": "5ddsz-nxGvfE",
        "colab": {
          "base_uri": "https://localhost:8080/"
        },
        "outputId": "08e64f67-39f0-41c1-b51e-607e217b1b59"
      },
      "outputs": [
        {
          "output_type": "stream",
          "name": "stdout",
          "text": [
            "(26661, 1024)\n"
          ]
        }
      ],
      "source": [
        "import gzip\n",
        "import numpy as np\n",
        "\n",
        "f = gzip.GzipFile('roberta_embeds.npy.gz', \"r\")\n",
        "embeds = np.load(f)\n",
        "print(embeds.shape)"
      ]
    },
    {
      "cell_type": "code",
      "source": [
        "embeds"
      ],
      "metadata": {
        "colab": {
          "base_uri": "https://localhost:8080/"
        },
        "id": "p5ZhWQnEXigk",
        "outputId": "e3f20339-cf1d-406c-dde1-76a25febeaa4"
      },
      "execution_count": 9,
      "outputs": [
        {
          "output_type": "execute_result",
          "data": {
            "text/plain": [
              "array([[ 0.50699836,  0.61128891, -0.2719104 , ...,  1.0390445 ,\n",
              "        -0.80041009,  0.73497975],\n",
              "       [-0.02217656, -0.1527285 , -0.55813098, ...,  0.18087101,\n",
              "         0.16279726, -0.41220728],\n",
              "       [ 0.52932245,  0.60723621, -0.25953016, ...,  1.0670861 ,\n",
              "        -0.75681108,  0.69999683],\n",
              "       ...,\n",
              "       [-0.05420208, -0.14062414, -0.55579591, ...,  0.12184423,\n",
              "         0.12340328, -0.31265116],\n",
              "       [-0.02863726, -0.14980018, -0.55721784, ...,  0.17685497,\n",
              "         0.16171496, -0.39407209],\n",
              "       [-0.02447684, -0.15692814, -0.55817062, ...,  0.17620397,\n",
              "         0.16273451, -0.39889568]])"
            ]
          },
          "metadata": {},
          "execution_count": 9
        }
      ]
    },
    {
      "cell_type": "code",
      "source": [
        "wcss = []\n",
        "models = []\n",
        "for k in range(10):\n",
        "    model = KMeans(n_clusters=k + 1, random_state=42)\n",
        "    model.fit(embeds)\n",
        "    wcss.append(model.inertia_)\n",
        "    models.append(model)\n",
        "\n",
        "plt.plot(range(1, 11), wcss, marker='o', linestyle='-')\n",
        "plt.title('Elbow Curve')\n",
        "plt.xlabel('Number of Clusters (k)')\n",
        "plt.ylabel('WCSS (Within-Cluster Sum of Squares)')\n",
        "plt.xticks(range(1, 11))\n",
        "plt.grid(True)\n",
        "plt.show()"
      ],
      "metadata": {
        "id": "9NDgwOGYiMHx",
        "colab": {
          "base_uri": "https://localhost:8080/",
          "height": 839
        },
        "outputId": "acb1088f-bf0b-4c02-fd74-c57519cc76f3"
      },
      "execution_count": 10,
      "outputs": [
        {
          "output_type": "stream",
          "name": "stderr",
          "text": [
            "/usr/local/lib/python3.10/dist-packages/sklearn/cluster/_kmeans.py:870: FutureWarning: The default value of `n_init` will change from 10 to 'auto' in 1.4. Set the value of `n_init` explicitly to suppress the warning\n",
            "  warnings.warn(\n",
            "/usr/local/lib/python3.10/dist-packages/sklearn/cluster/_kmeans.py:870: FutureWarning: The default value of `n_init` will change from 10 to 'auto' in 1.4. Set the value of `n_init` explicitly to suppress the warning\n",
            "  warnings.warn(\n",
            "/usr/local/lib/python3.10/dist-packages/sklearn/cluster/_kmeans.py:870: FutureWarning: The default value of `n_init` will change from 10 to 'auto' in 1.4. Set the value of `n_init` explicitly to suppress the warning\n",
            "  warnings.warn(\n",
            "/usr/local/lib/python3.10/dist-packages/sklearn/cluster/_kmeans.py:870: FutureWarning: The default value of `n_init` will change from 10 to 'auto' in 1.4. Set the value of `n_init` explicitly to suppress the warning\n",
            "  warnings.warn(\n",
            "/usr/local/lib/python3.10/dist-packages/sklearn/cluster/_kmeans.py:870: FutureWarning: The default value of `n_init` will change from 10 to 'auto' in 1.4. Set the value of `n_init` explicitly to suppress the warning\n",
            "  warnings.warn(\n",
            "/usr/local/lib/python3.10/dist-packages/sklearn/cluster/_kmeans.py:870: FutureWarning: The default value of `n_init` will change from 10 to 'auto' in 1.4. Set the value of `n_init` explicitly to suppress the warning\n",
            "  warnings.warn(\n",
            "/usr/local/lib/python3.10/dist-packages/sklearn/cluster/_kmeans.py:870: FutureWarning: The default value of `n_init` will change from 10 to 'auto' in 1.4. Set the value of `n_init` explicitly to suppress the warning\n",
            "  warnings.warn(\n",
            "/usr/local/lib/python3.10/dist-packages/sklearn/cluster/_kmeans.py:870: FutureWarning: The default value of `n_init` will change from 10 to 'auto' in 1.4. Set the value of `n_init` explicitly to suppress the warning\n",
            "  warnings.warn(\n",
            "/usr/local/lib/python3.10/dist-packages/sklearn/cluster/_kmeans.py:870: FutureWarning: The default value of `n_init` will change from 10 to 'auto' in 1.4. Set the value of `n_init` explicitly to suppress the warning\n",
            "  warnings.warn(\n",
            "/usr/local/lib/python3.10/dist-packages/sklearn/cluster/_kmeans.py:870: FutureWarning: The default value of `n_init` will change from 10 to 'auto' in 1.4. Set the value of `n_init` explicitly to suppress the warning\n",
            "  warnings.warn(\n"
          ]
        },
        {
          "output_type": "display_data",
          "data": {
            "text/plain": [
              "<Figure size 640x480 with 1 Axes>"
            ],
            "image/png": "[encoded data removed]"
          },
          "metadata": {}
        }
      ]
    },
    {
      "cell_type": "code",
      "source": [
        "wcss_plus = []\n",
        "models_plus = []\n",
        "for k in range(10):\n",
        "    model = KMeans(n_clusters=k + 1,init='k-means++', random_state=42)\n",
        "    model.fit(embeds)\n",
        "    wcss_plus.append(model.inertia_)\n",
        "    models_plus.append(model)\n",
        "\n"
      ],
      "metadata": {
        "id": "COfd2AArTG5J",
        "colab": {
          "base_uri": "https://localhost:8080/"
        },
        "outputId": "69fdd1ff-e61f-4e7d-c04e-d8044a2b93f8"
      },
      "execution_count": 12,
      "outputs": [
        {
          "output_type": "stream",
          "name": "stderr",
          "text": [
            "/usr/local/lib/python3.10/dist-packages/sklearn/cluster/_kmeans.py:870: FutureWarning: The default value of `n_init` will change from 10 to 'auto' in 1.4. Set the value of `n_init` explicitly to suppress the warning\n",
            "  warnings.warn(\n",
            "/usr/local/lib/python3.10/dist-packages/sklearn/cluster/_kmeans.py:870: FutureWarning: The default value of `n_init` will change from 10 to 'auto' in 1.4. Set the value of `n_init` explicitly to suppress the warning\n",
            "  warnings.warn(\n",
            "/usr/local/lib/python3.10/dist-packages/sklearn/cluster/_kmeans.py:870: FutureWarning: The default value of `n_init` will change from 10 to 'auto' in 1.4. Set the value of `n_init` explicitly to suppress the warning\n",
            "  warnings.warn(\n",
            "/usr/local/lib/python3.10/dist-packages/sklearn/cluster/_kmeans.py:870: FutureWarning: The default value of `n_init` will change from 10 to 'auto' in 1.4. Set the value of `n_init` explicitly to suppress the warning\n",
            "  warnings.warn(\n",
            "/usr/local/lib/python3.10/dist-packages/sklearn/cluster/_kmeans.py:870: FutureWarning: The default value of `n_init` will change from 10 to 'auto' in 1.4. Set the value of `n_init` explicitly to suppress the warning\n",
            "  warnings.warn(\n",
            "/usr/local/lib/python3.10/dist-packages/sklearn/cluster/_kmeans.py:870: FutureWarning: The default value of `n_init` will change from 10 to 'auto' in 1.4. Set the value of `n_init` explicitly to suppress the warning\n",
            "  warnings.warn(\n",
            "/usr/local/lib/python3.10/dist-packages/sklearn/cluster/_kmeans.py:870: FutureWarning: The default value of `n_init` will change from 10 to 'auto' in 1.4. Set the value of `n_init` explicitly to suppress the warning\n",
            "  warnings.warn(\n",
            "/usr/local/lib/python3.10/dist-packages/sklearn/cluster/_kmeans.py:870: FutureWarning: The default value of `n_init` will change from 10 to 'auto' in 1.4. Set the value of `n_init` explicitly to suppress the warning\n",
            "  warnings.warn(\n",
            "/usr/local/lib/python3.10/dist-packages/sklearn/cluster/_kmeans.py:870: FutureWarning: The default value of `n_init` will change from 10 to 'auto' in 1.4. Set the value of `n_init` explicitly to suppress the warning\n",
            "  warnings.warn(\n",
            "/usr/local/lib/python3.10/dist-packages/sklearn/cluster/_kmeans.py:870: FutureWarning: The default value of `n_init` will change from 10 to 'auto' in 1.4. Set the value of `n_init` explicitly to suppress the warning\n",
            "  warnings.warn(\n"
          ]
        }
      ]
    },
    {
      "cell_type": "code",
      "source": [
        "plt.plot(range(1, 11), wcss_plus, marker='o', linestyle='-')\n",
        "plt.title('Elbow Curve')\n",
        "plt.xlabel('Number of Clusters (k)')\n",
        "plt.ylabel('WCSS (Within-Cluster Sum of Squares)')\n",
        "plt.xticks(range(1, 11))\n",
        "plt.grid(True)\n",
        "plt.show()"
      ],
      "metadata": {
        "colab": {
          "base_uri": "https://localhost:8080/",
          "height": 472
        },
        "id": "N44OqHpkbsJr",
        "outputId": "b9d477dd-332a-4262-8fbd-370b57597108"
      },
      "execution_count": 13,
      "outputs": [
        {
          "output_type": "display_data",
          "data": {
            "text/plain": [
              "<Figure size 640x480 with 1 Axes>"
            ],
            "image/png": "[encoded data removed]"
          },
          "metadata": {}
        }
      ]
    },
    {
      "cell_type": "code",
      "source": [
        "X_train[0], y_train[train_index[0]]"
      ],
      "metadata": {
        "colab": {
          "base_uri": "https://localhost:8080/"
        },
        "id": "U45R-QxzcNeM",
        "outputId": "d76c6347-6023-453f-8e8a-bd98e41c7c01"
      },
      "execution_count": 18,
      "outputs": [
        {
          "output_type": "execute_result",
          "data": {
            "text/plain": [
              "('twice time staff super friendli help pina colada smoothi absolut delici look forward tri item menu',\n",
              " 5.0)"
            ]
          },
          "metadata": {},
          "execution_count": 18
        }
      ]
    },
    {
      "cell_type": "code",
      "source": [
        "len(models[0].labels_), len(embeds)"
      ],
      "metadata": {
        "colab": {
          "base_uri": "https://localhost:8080/"
        },
        "id": "oHdWaBXM2ee9",
        "outputId": "576e7499-6a77-475b-d66f-d817a98eaddb"
      },
      "execution_count": 19,
      "outputs": [
        {
          "output_type": "execute_result",
          "data": {
            "text/plain": [
              "(26661, 26661)"
            ]
          },
          "metadata": {},
          "execution_count": 19
        }
      ]
    },
    {
      "cell_type": "code",
      "source": [
        "len(data['stars'])"
      ],
      "metadata": {
        "colab": {
          "base_uri": "https://localhost:8080/"
        },
        "id": "vx7Xzazq4PMO",
        "outputId": "dce2359f-9da7-4a07-9978-032eb74048b1"
      },
      "execution_count": 20,
      "outputs": [
        {
          "output_type": "execute_result",
          "data": {
            "text/plain": [
              "26661"
            ]
          },
          "metadata": {},
          "execution_count": 20
        }
      ]
    },
    {
      "cell_type": "code",
      "source": [
        "true_labels = data['stars'].values"
      ],
      "metadata": {
        "id": "rud1YmeG4QOm"
      },
      "execution_count": 21,
      "outputs": []
    },
    {
      "cell_type": "code",
      "source": [
        "def calculate_purity(true_labels, pred_labels):\n",
        "    unique_clusters = np.unique(pred_labels)\n",
        "    unique_classes = np.unique(true_labels)\n",
        "    num_samples = len(true_labels)\n",
        "\n",
        "    total_correct = 0\n",
        "    for cluster in unique_clusters:\n",
        "        cluster_indices = np.where(pred_labels == cluster)[0]\n",
        "        cluster_labels = true_labels[cluster_indices]\n",
        "\n",
        "        class_counts = [np.sum(cluster_labels == cls) for cls in unique_classes]\n",
        "\n",
        "        majority_class_index = np.argmax(class_counts)\n",
        "\n",
        "        total_correct += class_counts[majority_class_index]\n",
        "\n",
        "    purity = total_correct / num_samples\n",
        "    return purity\n",
        "\n",
        "def calculate_entropy(true_labels, pred_labels):\n",
        "    num_samples = len(true_labels)\n",
        "    contingency_matrix = np.zeros((len(np.unique(pred_labels)), len(np.unique(true_labels))))\n",
        "\n",
        "    for i, cluster in enumerate(np.unique(pred_labels)):\n",
        "        for j, cls in enumerate(np.unique(true_labels)):\n",
        "            contingency_matrix[i, j] = np.sum((pred_labels == cluster) & (true_labels == cls))\n",
        "\n",
        "    eps = np.finfo(float).eps\n",
        "    cluster_probs = np.sum(contingency_matrix, axis=1) / num_samples\n",
        "    class_probs = np.sum(contingency_matrix, axis=0) / num_samples\n",
        "    cluster_entropy = -np.sum(cluster_probs * np.log(cluster_probs + eps))\n",
        "    class_entropy = -np.sum(class_probs * np.log(class_probs + eps))\n",
        "    return cluster_entropy, class_entropy\n",
        "\n",
        "def calculate_rand_index(true_labels, pred_labels):\n",
        "\n",
        "    n = len(true_labels)\n",
        "    tp = sum((true_labels[i] == true_labels[j]) and (pred_labels[i] == pred_labels[j]) for i in range(n) for j in range(i+1, n))\n",
        "    tn = sum((true_labels[i] != true_labels[j]) and (pred_labels[i] != pred_labels[j]) for i in range(n) for j in range(i+1, n))\n",
        "    fp = sum((true_labels[i] != true_labels[j]) and (pred_labels[i] == pred_labels[j]) for i in range(n) for j in range(i+1, n))\n",
        "    fn = sum((true_labels[i] == true_labels[j]) and (pred_labels[i] != pred_labels[j]) for i in range(n) for j in range(i+1, n))\n",
        "    rand_index = (tp + tn) / (tp + tn + fp + fn)\n",
        "\n",
        "    return rand_index\n",
        "\n",
        "\n",
        "def mutual_information(true_labels, predicted_labels):\n",
        "    N = float(true_labels.shape[0])\n",
        "    mutual_info = 0.0\n",
        "    for true_label in np.unique(true_labels):\n",
        "        for pred_label in np.unique(predicted_labels):\n",
        "            intersection = np.logical_and(true_labels == true_label, predicted_labels == pred_label).sum()\n",
        "            if intersection > 0:\n",
        "                size_true_label = (true_labels == true_label).sum()\n",
        "                size_pred_label = (predicted_labels == pred_label).sum()\n",
        "                mutual_info += (intersection / N) * np.log((N * intersection) / (size_true_label * size_pred_label))\n",
        "    return mutual_info\n",
        "\n",
        "def clustering_entropy(labels):\n",
        "    N = float(labels.shape[0])\n",
        "    entropy_val = 0.0\n",
        "    for label in np.unique(labels):\n",
        "        cluster_size = (labels == label).sum()\n",
        "        p_cluster = cluster_size / N\n",
        "        entropy_val -= p_cluster * np.log(p_cluster)\n",
        "    return entropy_val\n",
        "\n",
        "def normalized_mutual_information(true_labels, predicted_labels):\n",
        "    mi = mutual_information(true_labels, predicted_labels)\n",
        "    return 2 * mi / (clustering_entropy(true_labels) + clustering_entropy(predicted_labels))\n"
      ],
      "metadata": {
        "id": "NE-9A3As4wMk"
      },
      "execution_count": 22,
      "outputs": []
    },
    {
      "cell_type": "code",
      "source": [
        "calculate_purity(true_labels, models[0].labels_), calculate_purity(true_labels, models[2].labels_), calculate_purity(true_labels, models[5].labels_)"
      ],
      "metadata": {
        "colab": {
          "base_uri": "https://localhost:8080/"
        },
        "id": "-obgy-4LCP49",
        "outputId": "987c982d-d0e4-43b6-d47e-df5fc1b600f7"
      },
      "execution_count": 23,
      "outputs": [
        {
          "output_type": "execute_result",
          "data": {
            "text/plain": [
              "(0.5775102209219459, 0.70683770301189, 0.7113761674355801)"
            ]
          },
          "metadata": {},
          "execution_count": 23
        }
      ]
    },
    {
      "cell_type": "code",
      "source": [
        "normalized_mutual_information(true_labels, models[0].labels_),normalized_mutual_information(true_labels, models[2].labels_), normalized_mutual_information(true_labels, models[5].labels_)"
      ],
      "metadata": {
        "colab": {
          "base_uri": "https://localhost:8080/"
        },
        "id": "ZXUyJ9egCXlg",
        "outputId": "53c4b453-e8a9-4555-a217-6871abc8eba2"
      },
      "execution_count": 24,
      "outputs": [
        {
          "output_type": "execute_result",
          "data": {
            "text/plain": [
              "(0.0, 0.5299522788101331, 0.4574108161841284)"
            ]
          },
          "metadata": {},
          "execution_count": 24
        }
      ]
    },
    {
      "cell_type": "code",
      "source": [
        "calculate_rand_index(true_labels, models[0].labels_)"
      ],
      "metadata": {
        "colab": {
          "base_uri": "https://localhost:8080/"
        },
        "id": "moTIxHXzHWSs",
        "outputId": "62d6e4ea-ee4b-4fbd-f48b-08d2a5e4a86e"
      },
      "execution_count": 25,
      "outputs": [
        {
          "output_type": "execute_result",
          "data": {
            "text/plain": [
              "0.40569768581449966"
            ]
          },
          "metadata": {},
          "execution_count": 25
        }
      ]
    },
    {
      "cell_type": "code",
      "source": [
        "def cluster_report(true_labels, pred_labels):\n",
        "    purity = calculate_purity(true_labels, pred_labels)\n",
        "    rand_index = calculate_rand_index(true_labels, pred_labels)\n",
        "    nmi = normalized_mutual_information(true_labels, pred_labels)\n",
        "\n",
        "    print(\"Purity:\", purity)\n",
        "    print(\"Rand Index:\", rand_index)\n",
        "    print(\"Normalized Mutual Information:\", nmi)\n",
        "\n"
      ],
      "metadata": {
        "id": "VkIfR_bYAW5M"
      },
      "execution_count": 30,
      "outputs": []
    },
    {
      "cell_type": "code",
      "source": [
        "cluster_report(true_labels, models[2].labels_)"
      ],
      "metadata": {
        "colab": {
          "base_uri": "https://localhost:8080/"
        },
        "id": "2bDYweOM_9Tl",
        "outputId": "a18722f3-e919-4628-9862-037fa5f3365e"
      },
      "execution_count": 27,
      "outputs": [
        {
          "output_type": "stream",
          "name": "stdout",
          "text": [
            "Purity: 0.70683770301189\n",
            "Normalized Mutual Information: 0.5299522788101331\n"
          ]
        }
      ]
    },
    {
      "cell_type": "code",
      "source": [
        "cluster_report(true_labels, models[5].labels_)"
      ],
      "metadata": {
        "colab": {
          "base_uri": "https://localhost:8080/"
        },
        "id": "NYCdDbdFEVoe",
        "outputId": "587aac05-1195-4aff-cc5e-11e4015e79f2"
      },
      "execution_count": 31,
      "outputs": [
        {
          "output_type": "stream",
          "name": "stdout",
          "text": [
            "Purity: 0.7113761674355801\n",
            "Rand Index: 0.7280273539747601\n",
            "Normalized Mutual Information: 0.4574108161841284\n"
          ]
        }
      ]
    },
    {
      "cell_type": "code",
      "source": [],
      "metadata": {
        "id": "jifWTiHAEW8s"
      },
      "execution_count": null,
      "outputs": []
    }
  ],
  "metadata": {
    "colab": {
      "provenance": []
    },
    "kernelspec": {
      "display_name": "Python 3",
      "name": "python3"
    },
    "language_info": {
      "name": "python"
    }
  },
  "nbformat": 4,
  "nbformat_minor": 0
}